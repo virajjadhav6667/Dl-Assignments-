{
  "nbformat": 4,
  "nbformat_minor": 0,
  "metadata": {
    "colab": {
      "provenance": [],
      "gpuType": "T4"
    },
    "kernelspec": {
      "name": "python3",
      "display_name": "Python 3"
    },
    "language_info": {
      "name": "python"
    },
    "accelerator": "GPU"
  },
  "cells": [
    {
      "cell_type": "code",
      "execution_count": null,
      "metadata": {
        "colab": {
          "base_uri": "https://localhost:8080/"
        },
        "id": "S9MpFkX9tSTk",
        "outputId": "c9986d3d-f60f-46e0-96fd-a73cd0f31e68"
      },
      "outputs": [
        {
          "output_type": "stream",
          "name": "stdout",
          "text": [
            "TF version: 2.19.0\n",
            "GPUs found: []\n"
          ]
        }
      ],
      "source": [
        "# Check TensorFlow, GPU, set seeds for reproducibility\n",
        "import os, random, numpy as np, tensorflow as tf\n",
        "print(\"TF version:\", tf.__version__)\n",
        "\n",
        "# Seed\n",
        "SEED = 42\n",
        "np.random.seed(SEED)\n",
        "random.seed(SEED)\n",
        "tf.random.set_seed(SEED)\n",
        "\n",
        "# GPU check (in Colab: Runtime > Change runtime type > GPU)\n",
        "gpus = tf.config.list_physical_devices('GPU')\n",
        "print(\"GPUs found:\", gpus)\n"
      ]
    },
    {
      "cell_type": "code",
      "source": [
        "# Check TensorFlow, GPU, set seeds for reproducibility\n",
        "import os, random, numpy as np, tensorflow as tf\n",
        "print(\"TF version:\", tf.__version__)\n",
        "\n",
        "# Seed\n",
        "SEED = 42\n",
        "np.random.seed(SEED)\n",
        "random.seed(SEED)\n",
        "tf.random.set_seed(SEED)\n",
        "\n",
        "# GPU check (in Colab: Runtime > Change runtime type > GPU)\n",
        "gpus = tf.config.list_physical_devices('GPU')\n",
        "print(\"GPUs found:\", gpus)\n"
      ],
      "metadata": {
        "colab": {
          "base_uri": "https://localhost:8080/"
        },
        "id": "s7iBdUjFtmu9",
        "outputId": "645ff29f-edf1-4a66-e232-603e36147030"
      },
      "execution_count": null,
      "outputs": [
        {
          "output_type": "stream",
          "name": "stdout",
          "text": [
            "TF version: 2.19.0\n",
            "GPUs found: [PhysicalDevice(name='/physical_device:GPU:0', device_type='GPU')]\n"
          ]
        }
      ]
    },
    {
      "cell_type": "code",
      "source": [
        "# MNIST: 28x28 grayscale 10-class digits\n",
        "from tensorflow.keras.datasets import mnist\n",
        "(x_train, y_train), (x_test, y_test) = mnist.load_data()\n",
        "print(\"x_train shape:\", x_train.shape, \"y_train shape:\", y_train.shape)\n"
      ],
      "metadata": {
        "colab": {
          "base_uri": "https://localhost:8080/"
        },
        "id": "DwKmYygCtuOV",
        "outputId": "4a080e6f-c435-4dda-c780-5accfb22d648"
      },
      "execution_count": null,
      "outputs": [
        {
          "output_type": "stream",
          "name": "stdout",
          "text": [
            "Downloading data from https://storage.googleapis.com/tensorflow/tf-keras-datasets/mnist.npz\n",
            "\u001b[1m11490434/11490434\u001b[0m \u001b[32m━━━━━━━━━━━━━━━━━━━━\u001b[0m\u001b[37m\u001b[0m \u001b[1m2s\u001b[0m 0us/step\n",
            "x_train shape: (60000, 28, 28) y_train shape: (60000,)\n"
          ]
        }
      ]
    },
    {
      "cell_type": "code",
      "source": [
        "# Flatten 28x28 -> 784 for feedforward NN and normalize to [0,1]\n",
        "num_pixels = 28 * 28\n",
        "x_train_flat = x_train.reshape(-1, num_pixels).astype('float32') / 255.0\n",
        "x_test_flat  = x_test.reshape(-1, num_pixels).astype('float32') / 255.0\n",
        "\n",
        "# One-hot labels\n",
        "from tensorflow.keras.utils import to_categorical\n",
        "num_classes = 10\n",
        "y_train_cat = to_categorical(y_train, num_classes)\n",
        "y_test_cat  = to_categorical(y_test, num_classes)\n",
        "\n",
        "print(\"x_train_flat shape:\", x_train_flat.shape, \"y_train_cat shape:\", y_train_cat.shape)\n"
      ],
      "metadata": {
        "colab": {
          "base_uri": "https://localhost:8080/"
        },
        "id": "i0YzujCptz66",
        "outputId": "16f829cb-9e86-4046-9261-8557c910f47e"
      },
      "execution_count": null,
      "outputs": [
        {
          "output_type": "stream",
          "name": "stdout",
          "text": [
            "x_train_flat shape: (60000, 784) y_train_cat shape: (60000, 10)\n"
          ]
        }
      ]
    },
    {
      "cell_type": "code",
      "source": [
        "from tensorflow.keras import layers, models, regularizers\n",
        "\n",
        "def build_baseline(input_dim=784, hidden_units=128, num_classes=10, l2_rate=0.0, dropout_rate=0.0):\n",
        "    model = models.Sequential([\n",
        "        layers.Input(shape=(input_dim,)),\n",
        "        layers.Dense(hidden_units, activation='relu',\n",
        "                     kernel_regularizer=regularizers.l2(l2_rate)),\n",
        "        layers.Dropout(dropout_rate),\n",
        "        layers.Dense(num_classes, activation='softmax')\n",
        "    ])\n",
        "    return model\n",
        "\n",
        "model = build_baseline(hidden_units=256, l2_rate=1e-4, dropout_rate=0.2)\n",
        "model.summary()\n"
      ],
      "metadata": {
        "colab": {
          "base_uri": "https://localhost:8080/",
          "height": 225
        },
        "id": "l0tlofZut3ns",
        "outputId": "e3d22cf2-c6cb-436c-f7cb-c8de237e7296"
      },
      "execution_count": null,
      "outputs": [
        {
          "output_type": "display_data",
          "data": {
            "text/plain": [
              "\u001b[1mModel: \"sequential\"\u001b[0m\n"
            ],
            "text/html": [
              "<pre style=\"white-space:pre;overflow-x:auto;line-height:normal;font-family:Menlo,'DejaVu Sans Mono',consolas,'Courier New',monospace\"><span style=\"font-weight: bold\">Model: \"sequential\"</span>\n",
              "</pre>\n"
            ]
          },
          "metadata": {}
        },
        {
          "output_type": "display_data",
          "data": {
            "text/plain": [
              "┏━━━━━━━━━━━━━━━━━━━━━━━━━━━━━━━━━┳━━━━━━━━━━━━━━━━━━━━━━━━┳━━━━━━━━━━━━━━━┓\n",
              "┃\u001b[1m \u001b[0m\u001b[1mLayer (type)                   \u001b[0m\u001b[1m \u001b[0m┃\u001b[1m \u001b[0m\u001b[1mOutput Shape          \u001b[0m\u001b[1m \u001b[0m┃\u001b[1m \u001b[0m\u001b[1m      Param #\u001b[0m\u001b[1m \u001b[0m┃\n",
              "┡━━━━━━━━━━━━━━━━━━━━━━━━━━━━━━━━━╇━━━━━━━━━━━━━━━━━━━━━━━━╇━━━━━━━━━━━━━━━┩\n",
              "│ dense (\u001b[38;5;33mDense\u001b[0m)                   │ (\u001b[38;5;45mNone\u001b[0m, \u001b[38;5;34m256\u001b[0m)            │       \u001b[38;5;34m200,960\u001b[0m │\n",
              "├─────────────────────────────────┼────────────────────────┼───────────────┤\n",
              "│ dropout (\u001b[38;5;33mDropout\u001b[0m)               │ (\u001b[38;5;45mNone\u001b[0m, \u001b[38;5;34m256\u001b[0m)            │             \u001b[38;5;34m0\u001b[0m │\n",
              "├─────────────────────────────────┼────────────────────────┼───────────────┤\n",
              "│ dense_1 (\u001b[38;5;33mDense\u001b[0m)                 │ (\u001b[38;5;45mNone\u001b[0m, \u001b[38;5;34m10\u001b[0m)             │         \u001b[38;5;34m2,570\u001b[0m │\n",
              "└─────────────────────────────────┴────────────────────────┴───────────────┘\n"
            ],
            "text/html": [
              "<pre style=\"white-space:pre;overflow-x:auto;line-height:normal;font-family:Menlo,'DejaVu Sans Mono',consolas,'Courier New',monospace\">┏━━━━━━━━━━━━━━━━━━━━━━━━━━━━━━━━━┳━━━━━━━━━━━━━━━━━━━━━━━━┳━━━━━━━━━━━━━━━┓\n",
              "┃<span style=\"font-weight: bold\"> Layer (type)                    </span>┃<span style=\"font-weight: bold\"> Output Shape           </span>┃<span style=\"font-weight: bold\">       Param # </span>┃\n",
              "┡━━━━━━━━━━━━━━━━━━━━━━━━━━━━━━━━━╇━━━━━━━━━━━━━━━━━━━━━━━━╇━━━━━━━━━━━━━━━┩\n",
              "│ dense (<span style=\"color: #0087ff; text-decoration-color: #0087ff\">Dense</span>)                   │ (<span style=\"color: #00d7ff; text-decoration-color: #00d7ff\">None</span>, <span style=\"color: #00af00; text-decoration-color: #00af00\">256</span>)            │       <span style=\"color: #00af00; text-decoration-color: #00af00\">200,960</span> │\n",
              "├─────────────────────────────────┼────────────────────────┼───────────────┤\n",
              "│ dropout (<span style=\"color: #0087ff; text-decoration-color: #0087ff\">Dropout</span>)               │ (<span style=\"color: #00d7ff; text-decoration-color: #00d7ff\">None</span>, <span style=\"color: #00af00; text-decoration-color: #00af00\">256</span>)            │             <span style=\"color: #00af00; text-decoration-color: #00af00\">0</span> │\n",
              "├─────────────────────────────────┼────────────────────────┼───────────────┤\n",
              "│ dense_1 (<span style=\"color: #0087ff; text-decoration-color: #0087ff\">Dense</span>)                 │ (<span style=\"color: #00d7ff; text-decoration-color: #00d7ff\">None</span>, <span style=\"color: #00af00; text-decoration-color: #00af00\">10</span>)             │         <span style=\"color: #00af00; text-decoration-color: #00af00\">2,570</span> │\n",
              "└─────────────────────────────────┴────────────────────────┴───────────────┘\n",
              "</pre>\n"
            ]
          },
          "metadata": {}
        },
        {
          "output_type": "display_data",
          "data": {
            "text/plain": [
              "\u001b[1m Total params: \u001b[0m\u001b[38;5;34m203,530\u001b[0m (795.04 KB)\n"
            ],
            "text/html": [
              "<pre style=\"white-space:pre;overflow-x:auto;line-height:normal;font-family:Menlo,'DejaVu Sans Mono',consolas,'Courier New',monospace\"><span style=\"font-weight: bold\"> Total params: </span><span style=\"color: #00af00; text-decoration-color: #00af00\">203,530</span> (795.04 KB)\n",
              "</pre>\n"
            ]
          },
          "metadata": {}
        },
        {
          "output_type": "display_data",
          "data": {
            "text/plain": [
              "\u001b[1m Trainable params: \u001b[0m\u001b[38;5;34m203,530\u001b[0m (795.04 KB)\n"
            ],
            "text/html": [
              "<pre style=\"white-space:pre;overflow-x:auto;line-height:normal;font-family:Menlo,'DejaVu Sans Mono',consolas,'Courier New',monospace\"><span style=\"font-weight: bold\"> Trainable params: </span><span style=\"color: #00af00; text-decoration-color: #00af00\">203,530</span> (795.04 KB)\n",
              "</pre>\n"
            ]
          },
          "metadata": {}
        },
        {
          "output_type": "display_data",
          "data": {
            "text/plain": [
              "\u001b[1m Non-trainable params: \u001b[0m\u001b[38;5;34m0\u001b[0m (0.00 B)\n"
            ],
            "text/html": [
              "<pre style=\"white-space:pre;overflow-x:auto;line-height:normal;font-family:Menlo,'DejaVu Sans Mono',consolas,'Courier New',monospace\"><span style=\"font-weight: bold\"> Non-trainable params: </span><span style=\"color: #00af00; text-decoration-color: #00af00\">0</span> (0.00 B)\n",
              "</pre>\n"
            ]
          },
          "metadata": {}
        }
      ]
    },
    {
      "cell_type": "code",
      "source": [
        "from tensorflow.keras.optimizers import Adam\n",
        "from tensorflow.keras.callbacks import EarlyStopping, ModelCheckpoint, ReduceLROnPlateau\n",
        "\n",
        "model.compile(optimizer=Adam(learning_rate=1e-3),\n",
        "              loss='categorical_crossentropy',\n",
        "              metrics=['accuracy'])\n",
        "\n",
        "callbacks = [\n",
        "    EarlyStopping(monitor='val_loss', patience=6, restore_best_weights=True, verbose=1),\n",
        "    ModelCheckpoint('best_baseline.h5', monitor='val_loss', save_best_only=True, verbose=1),\n",
        "    ReduceLROnPlateau(monitor='val_loss', factor=0.5, patience=3, min_lr=1e-6, verbose=1)\n",
        "]\n",
        "\n",
        "history = model.fit(x_train_flat, y_train_cat,\n",
        "                    epochs=50,\n",
        "                    batch_size=128,\n",
        "                    validation_split=0.1,\n",
        "                    callbacks=callbacks,\n",
        "                    verbose=2)\n"
      ],
      "metadata": {
        "colab": {
          "base_uri": "https://localhost:8080/"
        },
        "id": "rfb0tjhYt666",
        "outputId": "9fd24388-aad0-436c-8e44-0d33371ec03a"
      },
      "execution_count": null,
      "outputs": [
        {
          "output_type": "stream",
          "name": "stdout",
          "text": [
            "Epoch 1/50\n",
            "\n",
            "Epoch 1: val_loss improved from inf to 0.17667, saving model to best_baseline.h5\n"
          ]
        },
        {
          "output_type": "stream",
          "name": "stderr",
          "text": [
            "WARNING:absl:You are saving your model as an HDF5 file via `model.save()` or `keras.saving.save_model(model)`. This file format is considered legacy. We recommend using instead the native Keras format, e.g. `model.save('my_model.keras')` or `keras.saving.save_model(model, 'my_model.keras')`. \n"
          ]
        },
        {
          "output_type": "stream",
          "name": "stdout",
          "text": [
            "422/422 - 6s - 14ms/step - accuracy: 0.9003 - loss: 0.3869 - val_accuracy: 0.9617 - val_loss: 0.1767 - learning_rate: 1.0000e-03\n",
            "Epoch 2/50\n",
            "\n",
            "Epoch 2: val_loss improved from 0.17667 to 0.14052, saving model to best_baseline.h5\n"
          ]
        },
        {
          "output_type": "stream",
          "name": "stderr",
          "text": [
            "WARNING:absl:You are saving your model as an HDF5 file via `model.save()` or `keras.saving.save_model(model)`. This file format is considered legacy. We recommend using instead the native Keras format, e.g. `model.save('my_model.keras')` or `keras.saving.save_model(model, 'my_model.keras')`. \n"
          ]
        },
        {
          "output_type": "stream",
          "name": "stdout",
          "text": [
            "422/422 - 1s - 3ms/step - accuracy: 0.9516 - loss: 0.1974 - val_accuracy: 0.9688 - val_loss: 0.1405 - learning_rate: 1.0000e-03\n",
            "Epoch 3/50\n",
            "\n",
            "Epoch 3: val_loss improved from 0.14052 to 0.12429, saving model to best_baseline.h5\n"
          ]
        },
        {
          "output_type": "stream",
          "name": "stderr",
          "text": [
            "WARNING:absl:You are saving your model as an HDF5 file via `model.save()` or `keras.saving.save_model(model)`. This file format is considered legacy. We recommend using instead the native Keras format, e.g. `model.save('my_model.keras')` or `keras.saving.save_model(model, 'my_model.keras')`. \n"
          ]
        },
        {
          "output_type": "stream",
          "name": "stdout",
          "text": [
            "422/422 - 1s - 3ms/step - accuracy: 0.9646 - loss: 0.1554 - val_accuracy: 0.9758 - val_loss: 0.1243 - learning_rate: 1.0000e-03\n",
            "Epoch 4/50\n",
            "\n",
            "Epoch 4: val_loss improved from 0.12429 to 0.11370, saving model to best_baseline.h5\n"
          ]
        },
        {
          "output_type": "stream",
          "name": "stderr",
          "text": [
            "WARNING:absl:You are saving your model as an HDF5 file via `model.save()` or `keras.saving.save_model(model)`. This file format is considered legacy. We recommend using instead the native Keras format, e.g. `model.save('my_model.keras')` or `keras.saving.save_model(model, 'my_model.keras')`. \n"
          ]
        },
        {
          "output_type": "stream",
          "name": "stdout",
          "text": [
            "422/422 - 1s - 4ms/step - accuracy: 0.9711 - loss: 0.1345 - val_accuracy: 0.9788 - val_loss: 0.1137 - learning_rate: 1.0000e-03\n",
            "Epoch 5/50\n",
            "\n",
            "Epoch 5: val_loss improved from 0.11370 to 0.10853, saving model to best_baseline.h5\n"
          ]
        },
        {
          "output_type": "stream",
          "name": "stderr",
          "text": [
            "WARNING:absl:You are saving your model as an HDF5 file via `model.save()` or `keras.saving.save_model(model)`. This file format is considered legacy. We recommend using instead the native Keras format, e.g. `model.save('my_model.keras')` or `keras.saving.save_model(model, 'my_model.keras')`. \n"
          ]
        },
        {
          "output_type": "stream",
          "name": "stdout",
          "text": [
            "422/422 - 2s - 4ms/step - accuracy: 0.9752 - loss: 0.1194 - val_accuracy: 0.9800 - val_loss: 0.1085 - learning_rate: 1.0000e-03\n",
            "Epoch 6/50\n",
            "\n",
            "Epoch 6: val_loss improved from 0.10853 to 0.10638, saving model to best_baseline.h5\n"
          ]
        },
        {
          "output_type": "stream",
          "name": "stderr",
          "text": [
            "WARNING:absl:You are saving your model as an HDF5 file via `model.save()` or `keras.saving.save_model(model)`. This file format is considered legacy. We recommend using instead the native Keras format, e.g. `model.save('my_model.keras')` or `keras.saving.save_model(model, 'my_model.keras')`. \n"
          ]
        },
        {
          "output_type": "stream",
          "name": "stdout",
          "text": [
            "422/422 - 2s - 4ms/step - accuracy: 0.9782 - loss: 0.1094 - val_accuracy: 0.9810 - val_loss: 0.1064 - learning_rate: 1.0000e-03\n",
            "Epoch 7/50\n",
            "\n",
            "Epoch 7: val_loss improved from 0.10638 to 0.10363, saving model to best_baseline.h5\n"
          ]
        },
        {
          "output_type": "stream",
          "name": "stderr",
          "text": [
            "WARNING:absl:You are saving your model as an HDF5 file via `model.save()` or `keras.saving.save_model(model)`. This file format is considered legacy. We recommend using instead the native Keras format, e.g. `model.save('my_model.keras')` or `keras.saving.save_model(model, 'my_model.keras')`. \n"
          ]
        },
        {
          "output_type": "stream",
          "name": "stdout",
          "text": [
            "422/422 - 1s - 3ms/step - accuracy: 0.9816 - loss: 0.1007 - val_accuracy: 0.9808 - val_loss: 0.1036 - learning_rate: 1.0000e-03\n",
            "Epoch 8/50\n",
            "\n",
            "Epoch 8: val_loss improved from 0.10363 to 0.10323, saving model to best_baseline.h5\n"
          ]
        },
        {
          "output_type": "stream",
          "name": "stderr",
          "text": [
            "WARNING:absl:You are saving your model as an HDF5 file via `model.save()` or `keras.saving.save_model(model)`. This file format is considered legacy. We recommend using instead the native Keras format, e.g. `model.save('my_model.keras')` or `keras.saving.save_model(model, 'my_model.keras')`. \n"
          ]
        },
        {
          "output_type": "stream",
          "name": "stdout",
          "text": [
            "422/422 - 1s - 3ms/step - accuracy: 0.9831 - loss: 0.0949 - val_accuracy: 0.9815 - val_loss: 0.1032 - learning_rate: 1.0000e-03\n",
            "Epoch 9/50\n",
            "\n",
            "Epoch 9: val_loss improved from 0.10323 to 0.10280, saving model to best_baseline.h5\n"
          ]
        },
        {
          "output_type": "stream",
          "name": "stderr",
          "text": [
            "WARNING:absl:You are saving your model as an HDF5 file via `model.save()` or `keras.saving.save_model(model)`. This file format is considered legacy. We recommend using instead the native Keras format, e.g. `model.save('my_model.keras')` or `keras.saving.save_model(model, 'my_model.keras')`. \n"
          ]
        },
        {
          "output_type": "stream",
          "name": "stdout",
          "text": [
            "422/422 - 1s - 3ms/step - accuracy: 0.9839 - loss: 0.0904 - val_accuracy: 0.9808 - val_loss: 0.1028 - learning_rate: 1.0000e-03\n",
            "Epoch 10/50\n",
            "\n",
            "Epoch 10: val_loss improved from 0.10280 to 0.09707, saving model to best_baseline.h5\n"
          ]
        },
        {
          "output_type": "stream",
          "name": "stderr",
          "text": [
            "WARNING:absl:You are saving your model as an HDF5 file via `model.save()` or `keras.saving.save_model(model)`. This file format is considered legacy. We recommend using instead the native Keras format, e.g. `model.save('my_model.keras')` or `keras.saving.save_model(model, 'my_model.keras')`. \n"
          ]
        },
        {
          "output_type": "stream",
          "name": "stdout",
          "text": [
            "422/422 - 1s - 3ms/step - accuracy: 0.9854 - loss: 0.0857 - val_accuracy: 0.9833 - val_loss: 0.0971 - learning_rate: 1.0000e-03\n",
            "Epoch 11/50\n",
            "\n",
            "Epoch 11: val_loss did not improve from 0.09707\n",
            "422/422 - 1s - 3ms/step - accuracy: 0.9870 - loss: 0.0828 - val_accuracy: 0.9810 - val_loss: 0.1018 - learning_rate: 1.0000e-03\n",
            "Epoch 12/50\n",
            "\n",
            "Epoch 12: val_loss did not improve from 0.09707\n",
            "422/422 - 1s - 3ms/step - accuracy: 0.9871 - loss: 0.0801 - val_accuracy: 0.9808 - val_loss: 0.1000 - learning_rate: 1.0000e-03\n",
            "Epoch 13/50\n",
            "\n",
            "Epoch 13: val_loss did not improve from 0.09707\n",
            "\n",
            "Epoch 13: ReduceLROnPlateau reducing learning rate to 0.0005000000237487257.\n",
            "422/422 - 2s - 4ms/step - accuracy: 0.9873 - loss: 0.0779 - val_accuracy: 0.9815 - val_loss: 0.1012 - learning_rate: 1.0000e-03\n",
            "Epoch 14/50\n",
            "\n",
            "Epoch 14: val_loss improved from 0.09707 to 0.09027, saving model to best_baseline.h5\n"
          ]
        },
        {
          "output_type": "stream",
          "name": "stderr",
          "text": [
            "WARNING:absl:You are saving your model as an HDF5 file via `model.save()` or `keras.saving.save_model(model)`. This file format is considered legacy. We recommend using instead the native Keras format, e.g. `model.save('my_model.keras')` or `keras.saving.save_model(model, 'my_model.keras')`. \n"
          ]
        },
        {
          "output_type": "stream",
          "name": "stdout",
          "text": [
            "422/422 - 1s - 4ms/step - accuracy: 0.9914 - loss: 0.0676 - val_accuracy: 0.9840 - val_loss: 0.0903 - learning_rate: 5.0000e-04\n",
            "Epoch 15/50\n",
            "\n",
            "Epoch 15: val_loss improved from 0.09027 to 0.08729, saving model to best_baseline.h5\n"
          ]
        },
        {
          "output_type": "stream",
          "name": "stderr",
          "text": [
            "WARNING:absl:You are saving your model as an HDF5 file via `model.save()` or `keras.saving.save_model(model)`. This file format is considered legacy. We recommend using instead the native Keras format, e.g. `model.save('my_model.keras')` or `keras.saving.save_model(model, 'my_model.keras')`. \n"
          ]
        },
        {
          "output_type": "stream",
          "name": "stdout",
          "text": [
            "422/422 - 1s - 3ms/step - accuracy: 0.9922 - loss: 0.0629 - val_accuracy: 0.9850 - val_loss: 0.0873 - learning_rate: 5.0000e-04\n",
            "Epoch 16/50\n",
            "\n",
            "Epoch 16: val_loss improved from 0.08729 to 0.08523, saving model to best_baseline.h5\n"
          ]
        },
        {
          "output_type": "stream",
          "name": "stderr",
          "text": [
            "WARNING:absl:You are saving your model as an HDF5 file via `model.save()` or `keras.saving.save_model(model)`. This file format is considered legacy. We recommend using instead the native Keras format, e.g. `model.save('my_model.keras')` or `keras.saving.save_model(model, 'my_model.keras')`. \n"
          ]
        },
        {
          "output_type": "stream",
          "name": "stdout",
          "text": [
            "422/422 - 1s - 3ms/step - accuracy: 0.9928 - loss: 0.0608 - val_accuracy: 0.9848 - val_loss: 0.0852 - learning_rate: 5.0000e-04\n",
            "Epoch 17/50\n",
            "\n",
            "Epoch 17: val_loss improved from 0.08523 to 0.08227, saving model to best_baseline.h5\n"
          ]
        },
        {
          "output_type": "stream",
          "name": "stderr",
          "text": [
            "WARNING:absl:You are saving your model as an HDF5 file via `model.save()` or `keras.saving.save_model(model)`. This file format is considered legacy. We recommend using instead the native Keras format, e.g. `model.save('my_model.keras')` or `keras.saving.save_model(model, 'my_model.keras')`. \n"
          ]
        },
        {
          "output_type": "stream",
          "name": "stdout",
          "text": [
            "422/422 - 1s - 3ms/step - accuracy: 0.9930 - loss: 0.0592 - val_accuracy: 0.9855 - val_loss: 0.0823 - learning_rate: 5.0000e-04\n",
            "Epoch 18/50\n",
            "\n",
            "Epoch 18: val_loss did not improve from 0.08227\n",
            "422/422 - 1s - 3ms/step - accuracy: 0.9930 - loss: 0.0582 - val_accuracy: 0.9848 - val_loss: 0.0866 - learning_rate: 5.0000e-04\n",
            "Epoch 19/50\n",
            "\n",
            "Epoch 19: val_loss did not improve from 0.08227\n",
            "422/422 - 1s - 3ms/step - accuracy: 0.9936 - loss: 0.0564 - val_accuracy: 0.9848 - val_loss: 0.0836 - learning_rate: 5.0000e-04\n",
            "Epoch 20/50\n",
            "\n",
            "Epoch 20: val_loss did not improve from 0.08227\n",
            "\n",
            "Epoch 20: ReduceLROnPlateau reducing learning rate to 0.0002500000118743628.\n",
            "422/422 - 1s - 3ms/step - accuracy: 0.9932 - loss: 0.0555 - val_accuracy: 0.9837 - val_loss: 0.0839 - learning_rate: 5.0000e-04\n",
            "Epoch 21/50\n",
            "\n",
            "Epoch 21: val_loss improved from 0.08227 to 0.07931, saving model to best_baseline.h5\n"
          ]
        },
        {
          "output_type": "stream",
          "name": "stderr",
          "text": [
            "WARNING:absl:You are saving your model as an HDF5 file via `model.save()` or `keras.saving.save_model(model)`. This file format is considered legacy. We recommend using instead the native Keras format, e.g. `model.save('my_model.keras')` or `keras.saving.save_model(model, 'my_model.keras')`. \n"
          ]
        },
        {
          "output_type": "stream",
          "name": "stdout",
          "text": [
            "422/422 - 1s - 3ms/step - accuracy: 0.9947 - loss: 0.0515 - val_accuracy: 0.9857 - val_loss: 0.0793 - learning_rate: 2.5000e-04\n",
            "Epoch 22/50\n",
            "\n",
            "Epoch 22: val_loss improved from 0.07931 to 0.07853, saving model to best_baseline.h5\n"
          ]
        },
        {
          "output_type": "stream",
          "name": "stderr",
          "text": [
            "WARNING:absl:You are saving your model as an HDF5 file via `model.save()` or `keras.saving.save_model(model)`. This file format is considered legacy. We recommend using instead the native Keras format, e.g. `model.save('my_model.keras')` or `keras.saving.save_model(model, 'my_model.keras')`. \n"
          ]
        },
        {
          "output_type": "stream",
          "name": "stdout",
          "text": [
            "422/422 - 1s - 3ms/step - accuracy: 0.9954 - loss: 0.0495 - val_accuracy: 0.9858 - val_loss: 0.0785 - learning_rate: 2.5000e-04\n",
            "Epoch 23/50\n",
            "\n",
            "Epoch 23: val_loss did not improve from 0.07853\n",
            "422/422 - 2s - 4ms/step - accuracy: 0.9957 - loss: 0.0475 - val_accuracy: 0.9858 - val_loss: 0.0793 - learning_rate: 2.5000e-04\n",
            "Epoch 24/50\n",
            "\n",
            "Epoch 24: val_loss improved from 0.07853 to 0.07737, saving model to best_baseline.h5\n"
          ]
        },
        {
          "output_type": "stream",
          "name": "stderr",
          "text": [
            "WARNING:absl:You are saving your model as an HDF5 file via `model.save()` or `keras.saving.save_model(model)`. This file format is considered legacy. We recommend using instead the native Keras format, e.g. `model.save('my_model.keras')` or `keras.saving.save_model(model, 'my_model.keras')`. \n"
          ]
        },
        {
          "output_type": "stream",
          "name": "stdout",
          "text": [
            "422/422 - 2s - 5ms/step - accuracy: 0.9958 - loss: 0.0471 - val_accuracy: 0.9860 - val_loss: 0.0774 - learning_rate: 2.5000e-04\n",
            "Epoch 25/50\n",
            "\n",
            "Epoch 25: val_loss did not improve from 0.07737\n",
            "422/422 - 1s - 3ms/step - accuracy: 0.9958 - loss: 0.0462 - val_accuracy: 0.9857 - val_loss: 0.0790 - learning_rate: 2.5000e-04\n",
            "Epoch 26/50\n",
            "\n",
            "Epoch 26: val_loss did not improve from 0.07737\n",
            "422/422 - 1s - 2ms/step - accuracy: 0.9959 - loss: 0.0453 - val_accuracy: 0.9858 - val_loss: 0.0776 - learning_rate: 2.5000e-04\n",
            "Epoch 27/50\n",
            "\n",
            "Epoch 27: val_loss did not improve from 0.07737\n",
            "\n",
            "Epoch 27: ReduceLROnPlateau reducing learning rate to 0.0001250000059371814.\n",
            "422/422 - 1s - 3ms/step - accuracy: 0.9961 - loss: 0.0446 - val_accuracy: 0.9858 - val_loss: 0.0774 - learning_rate: 2.5000e-04\n",
            "Epoch 28/50\n",
            "\n",
            "Epoch 28: val_loss improved from 0.07737 to 0.07585, saving model to best_baseline.h5\n"
          ]
        },
        {
          "output_type": "stream",
          "name": "stderr",
          "text": [
            "WARNING:absl:You are saving your model as an HDF5 file via `model.save()` or `keras.saving.save_model(model)`. This file format is considered legacy. We recommend using instead the native Keras format, e.g. `model.save('my_model.keras')` or `keras.saving.save_model(model, 'my_model.keras')`. \n"
          ]
        },
        {
          "output_type": "stream",
          "name": "stdout",
          "text": [
            "422/422 - 1s - 3ms/step - accuracy: 0.9971 - loss: 0.0419 - val_accuracy: 0.9857 - val_loss: 0.0758 - learning_rate: 1.2500e-04\n",
            "Epoch 29/50\n",
            "\n",
            "Epoch 29: val_loss improved from 0.07585 to 0.07528, saving model to best_baseline.h5\n"
          ]
        },
        {
          "output_type": "stream",
          "name": "stderr",
          "text": [
            "WARNING:absl:You are saving your model as an HDF5 file via `model.save()` or `keras.saving.save_model(model)`. This file format is considered legacy. We recommend using instead the native Keras format, e.g. `model.save('my_model.keras')` or `keras.saving.save_model(model, 'my_model.keras')`. \n"
          ]
        },
        {
          "output_type": "stream",
          "name": "stdout",
          "text": [
            "422/422 - 1s - 3ms/step - accuracy: 0.9967 - loss: 0.0416 - val_accuracy: 0.9858 - val_loss: 0.0753 - learning_rate: 1.2500e-04\n",
            "Epoch 30/50\n",
            "\n",
            "Epoch 30: val_loss improved from 0.07528 to 0.07484, saving model to best_baseline.h5\n"
          ]
        },
        {
          "output_type": "stream",
          "name": "stderr",
          "text": [
            "WARNING:absl:You are saving your model as an HDF5 file via `model.save()` or `keras.saving.save_model(model)`. This file format is considered legacy. We recommend using instead the native Keras format, e.g. `model.save('my_model.keras')` or `keras.saving.save_model(model, 'my_model.keras')`. \n"
          ]
        },
        {
          "output_type": "stream",
          "name": "stdout",
          "text": [
            "422/422 - 1s - 3ms/step - accuracy: 0.9970 - loss: 0.0411 - val_accuracy: 0.9857 - val_loss: 0.0748 - learning_rate: 1.2500e-04\n",
            "Epoch 31/50\n",
            "\n",
            "Epoch 31: val_loss improved from 0.07484 to 0.07322, saving model to best_baseline.h5\n"
          ]
        },
        {
          "output_type": "stream",
          "name": "stderr",
          "text": [
            "WARNING:absl:You are saving your model as an HDF5 file via `model.save()` or `keras.saving.save_model(model)`. This file format is considered legacy. We recommend using instead the native Keras format, e.g. `model.save('my_model.keras')` or `keras.saving.save_model(model, 'my_model.keras')`. \n"
          ]
        },
        {
          "output_type": "stream",
          "name": "stdout",
          "text": [
            "422/422 - 1s - 3ms/step - accuracy: 0.9972 - loss: 0.0403 - val_accuracy: 0.9863 - val_loss: 0.0732 - learning_rate: 1.2500e-04\n",
            "Epoch 32/50\n",
            "\n",
            "Epoch 32: val_loss did not improve from 0.07322\n",
            "422/422 - 1s - 3ms/step - accuracy: 0.9971 - loss: 0.0398 - val_accuracy: 0.9855 - val_loss: 0.0743 - learning_rate: 1.2500e-04\n",
            "Epoch 33/50\n",
            "\n",
            "Epoch 33: val_loss improved from 0.07322 to 0.07217, saving model to best_baseline.h5\n"
          ]
        },
        {
          "output_type": "stream",
          "name": "stderr",
          "text": [
            "WARNING:absl:You are saving your model as an HDF5 file via `model.save()` or `keras.saving.save_model(model)`. This file format is considered legacy. We recommend using instead the native Keras format, e.g. `model.save('my_model.keras')` or `keras.saving.save_model(model, 'my_model.keras')`. \n"
          ]
        },
        {
          "output_type": "stream",
          "name": "stdout",
          "text": [
            "422/422 - 1s - 3ms/step - accuracy: 0.9970 - loss: 0.0402 - val_accuracy: 0.9865 - val_loss: 0.0722 - learning_rate: 1.2500e-04\n",
            "Epoch 34/50\n",
            "\n",
            "Epoch 34: val_loss improved from 0.07217 to 0.07142, saving model to best_baseline.h5\n"
          ]
        },
        {
          "output_type": "stream",
          "name": "stderr",
          "text": [
            "WARNING:absl:You are saving your model as an HDF5 file via `model.save()` or `keras.saving.save_model(model)`. This file format is considered legacy. We recommend using instead the native Keras format, e.g. `model.save('my_model.keras')` or `keras.saving.save_model(model, 'my_model.keras')`. \n"
          ]
        },
        {
          "output_type": "stream",
          "name": "stdout",
          "text": [
            "422/422 - 2s - 5ms/step - accuracy: 0.9971 - loss: 0.0397 - val_accuracy: 0.9867 - val_loss: 0.0714 - learning_rate: 1.2500e-04\n",
            "Epoch 35/50\n",
            "\n",
            "Epoch 35: val_loss did not improve from 0.07142\n",
            "422/422 - 1s - 3ms/step - accuracy: 0.9971 - loss: 0.0392 - val_accuracy: 0.9868 - val_loss: 0.0723 - learning_rate: 1.2500e-04\n",
            "Epoch 36/50\n",
            "\n",
            "Epoch 36: val_loss did not improve from 0.07142\n",
            "422/422 - 1s - 3ms/step - accuracy: 0.9969 - loss: 0.0391 - val_accuracy: 0.9853 - val_loss: 0.0727 - learning_rate: 1.2500e-04\n",
            "Epoch 37/50\n",
            "\n",
            "Epoch 37: val_loss did not improve from 0.07142\n",
            "\n",
            "Epoch 37: ReduceLROnPlateau reducing learning rate to 6.25000029685907e-05.\n",
            "422/422 - 1s - 3ms/step - accuracy: 0.9970 - loss: 0.0386 - val_accuracy: 0.9862 - val_loss: 0.0723 - learning_rate: 1.2500e-04\n",
            "Epoch 38/50\n",
            "\n",
            "Epoch 38: val_loss improved from 0.07142 to 0.07133, saving model to best_baseline.h5\n"
          ]
        },
        {
          "output_type": "stream",
          "name": "stderr",
          "text": [
            "WARNING:absl:You are saving your model as an HDF5 file via `model.save()` or `keras.saving.save_model(model)`. This file format is considered legacy. We recommend using instead the native Keras format, e.g. `model.save('my_model.keras')` or `keras.saving.save_model(model, 'my_model.keras')`. \n"
          ]
        },
        {
          "output_type": "stream",
          "name": "stdout",
          "text": [
            "422/422 - 1s - 3ms/step - accuracy: 0.9977 - loss: 0.0372 - val_accuracy: 0.9865 - val_loss: 0.0713 - learning_rate: 6.2500e-05\n",
            "Epoch 39/50\n",
            "\n",
            "Epoch 39: val_loss improved from 0.07133 to 0.07114, saving model to best_baseline.h5\n"
          ]
        },
        {
          "output_type": "stream",
          "name": "stderr",
          "text": [
            "WARNING:absl:You are saving your model as an HDF5 file via `model.save()` or `keras.saving.save_model(model)`. This file format is considered legacy. We recommend using instead the native Keras format, e.g. `model.save('my_model.keras')` or `keras.saving.save_model(model, 'my_model.keras')`. \n"
          ]
        },
        {
          "output_type": "stream",
          "name": "stdout",
          "text": [
            "422/422 - 1s - 3ms/step - accuracy: 0.9974 - loss: 0.0374 - val_accuracy: 0.9860 - val_loss: 0.0711 - learning_rate: 6.2500e-05\n",
            "Epoch 40/50\n",
            "\n",
            "Epoch 40: val_loss improved from 0.07114 to 0.07082, saving model to best_baseline.h5\n"
          ]
        },
        {
          "output_type": "stream",
          "name": "stderr",
          "text": [
            "WARNING:absl:You are saving your model as an HDF5 file via `model.save()` or `keras.saving.save_model(model)`. This file format is considered legacy. We recommend using instead the native Keras format, e.g. `model.save('my_model.keras')` or `keras.saving.save_model(model, 'my_model.keras')`. \n"
          ]
        },
        {
          "output_type": "stream",
          "name": "stdout",
          "text": [
            "422/422 - 1s - 3ms/step - accuracy: 0.9976 - loss: 0.0368 - val_accuracy: 0.9862 - val_loss: 0.0708 - learning_rate: 6.2500e-05\n",
            "Epoch 41/50\n",
            "\n",
            "Epoch 41: val_loss did not improve from 0.07082\n",
            "422/422 - 2s - 4ms/step - accuracy: 0.9972 - loss: 0.0371 - val_accuracy: 0.9863 - val_loss: 0.0709 - learning_rate: 6.2500e-05\n",
            "Epoch 42/50\n",
            "\n",
            "Epoch 42: val_loss did not improve from 0.07082\n",
            "422/422 - 1s - 3ms/step - accuracy: 0.9978 - loss: 0.0360 - val_accuracy: 0.9858 - val_loss: 0.0711 - learning_rate: 6.2500e-05\n",
            "Epoch 43/50\n",
            "\n",
            "Epoch 43: val_loss improved from 0.07082 to 0.07054, saving model to best_baseline.h5\n"
          ]
        },
        {
          "output_type": "stream",
          "name": "stderr",
          "text": [
            "WARNING:absl:You are saving your model as an HDF5 file via `model.save()` or `keras.saving.save_model(model)`. This file format is considered legacy. We recommend using instead the native Keras format, e.g. `model.save('my_model.keras')` or `keras.saving.save_model(model, 'my_model.keras')`. \n"
          ]
        },
        {
          "output_type": "stream",
          "name": "stdout",
          "text": [
            "422/422 - 2s - 5ms/step - accuracy: 0.9978 - loss: 0.0358 - val_accuracy: 0.9863 - val_loss: 0.0705 - learning_rate: 6.2500e-05\n",
            "Epoch 44/50\n",
            "\n",
            "Epoch 44: val_loss improved from 0.07054 to 0.07040, saving model to best_baseline.h5\n"
          ]
        },
        {
          "output_type": "stream",
          "name": "stderr",
          "text": [
            "WARNING:absl:You are saving your model as an HDF5 file via `model.save()` or `keras.saving.save_model(model)`. This file format is considered legacy. We recommend using instead the native Keras format, e.g. `model.save('my_model.keras')` or `keras.saving.save_model(model, 'my_model.keras')`. \n"
          ]
        },
        {
          "output_type": "stream",
          "name": "stdout",
          "text": [
            "422/422 - 1s - 3ms/step - accuracy: 0.9975 - loss: 0.0359 - val_accuracy: 0.9858 - val_loss: 0.0704 - learning_rate: 6.2500e-05\n",
            "Epoch 45/50\n",
            "\n",
            "Epoch 45: val_loss did not improve from 0.07040\n",
            "422/422 - 1s - 3ms/step - accuracy: 0.9977 - loss: 0.0357 - val_accuracy: 0.9860 - val_loss: 0.0707 - learning_rate: 6.2500e-05\n",
            "Epoch 46/50\n",
            "\n",
            "Epoch 46: val_loss improved from 0.07040 to 0.07020, saving model to best_baseline.h5\n"
          ]
        },
        {
          "output_type": "stream",
          "name": "stderr",
          "text": [
            "WARNING:absl:You are saving your model as an HDF5 file via `model.save()` or `keras.saving.save_model(model)`. This file format is considered legacy. We recommend using instead the native Keras format, e.g. `model.save('my_model.keras')` or `keras.saving.save_model(model, 'my_model.keras')`. \n"
          ]
        },
        {
          "output_type": "stream",
          "name": "stdout",
          "text": [
            "422/422 - 1s - 3ms/step - accuracy: 0.9981 - loss: 0.0355 - val_accuracy: 0.9862 - val_loss: 0.0702 - learning_rate: 6.2500e-05\n",
            "Epoch 47/50\n",
            "\n",
            "Epoch 47: val_loss improved from 0.07020 to 0.06969, saving model to best_baseline.h5\n"
          ]
        },
        {
          "output_type": "stream",
          "name": "stderr",
          "text": [
            "WARNING:absl:You are saving your model as an HDF5 file via `model.save()` or `keras.saving.save_model(model)`. This file format is considered legacy. We recommend using instead the native Keras format, e.g. `model.save('my_model.keras')` or `keras.saving.save_model(model, 'my_model.keras')`. \n"
          ]
        },
        {
          "output_type": "stream",
          "name": "stdout",
          "text": [
            "422/422 - 1s - 3ms/step - accuracy: 0.9978 - loss: 0.0353 - val_accuracy: 0.9867 - val_loss: 0.0697 - learning_rate: 6.2500e-05\n",
            "Epoch 48/50\n",
            "\n",
            "Epoch 48: val_loss improved from 0.06969 to 0.06951, saving model to best_baseline.h5\n"
          ]
        },
        {
          "output_type": "stream",
          "name": "stderr",
          "text": [
            "WARNING:absl:You are saving your model as an HDF5 file via `model.save()` or `keras.saving.save_model(model)`. This file format is considered legacy. We recommend using instead the native Keras format, e.g. `model.save('my_model.keras')` or `keras.saving.save_model(model, 'my_model.keras')`. \n"
          ]
        },
        {
          "output_type": "stream",
          "name": "stdout",
          "text": [
            "422/422 - 1s - 3ms/step - accuracy: 0.9977 - loss: 0.0353 - val_accuracy: 0.9862 - val_loss: 0.0695 - learning_rate: 6.2500e-05\n",
            "Epoch 49/50\n",
            "\n",
            "Epoch 49: val_loss did not improve from 0.06951\n",
            "422/422 - 1s - 3ms/step - accuracy: 0.9979 - loss: 0.0351 - val_accuracy: 0.9858 - val_loss: 0.0697 - learning_rate: 6.2500e-05\n",
            "Epoch 50/50\n",
            "\n",
            "Epoch 50: val_loss did not improve from 0.06951\n",
            "422/422 - 2s - 4ms/step - accuracy: 0.9977 - loss: 0.0350 - val_accuracy: 0.9862 - val_loss: 0.0702 - learning_rate: 6.2500e-05\n",
            "Restoring model weights from the end of the best epoch: 48.\n"
          ]
        }
      ]
    },
    {
      "cell_type": "code",
      "source": [
        "import matplotlib.pyplot as plt\n",
        "\n",
        "# Evaluate on test set\n",
        "test_loss, test_acc = model.evaluate(x_test_flat, y_test_cat, verbose=2)\n",
        "print(f\"Test loss: {test_loss:.4f}   Test accuracy: {test_acc:.4f}\")\n",
        "\n",
        "# Plot loss & accuracy\n",
        "plt.figure(figsize=(12,4))\n",
        "plt.subplot(1,2,1)\n",
        "plt.plot(history.history['loss'], label='train loss')\n",
        "plt.plot(history.history['val_loss'], label='val loss')\n",
        "plt.legend(); plt.title('Loss')\n",
        "\n",
        "plt.subplot(1,2,2)\n",
        "plt.plot(history.history['accuracy'], label='train acc')\n",
        "plt.plot(history.history['val_accuracy'], label='val acc')\n",
        "plt.legend(); plt.title('Accuracy')\n",
        "plt.show()\n"
      ],
      "metadata": {
        "colab": {
          "base_uri": "https://localhost:8080/",
          "height": 426
        },
        "id": "WZA9X803t_h_",
        "outputId": "e714f72c-ea2e-461b-c4e6-bf9542628c2a"
      },
      "execution_count": null,
      "outputs": [
        {
          "output_type": "stream",
          "name": "stdout",
          "text": [
            "313/313 - 2s - 6ms/step - accuracy: 0.9847 - loss: 0.0703\n",
            "Test loss: 0.0703   Test accuracy: 0.9847\n"
          ]
        },
        {
          "output_type": "display_data",
          "data": {
            "text/plain": [
              "<Figure size 1200x400 with 2 Axes>"
            ],
            "image/png": "[encoded data removed]"
          },
          "metadata": {}
        }
      ]
    },
    {
      "cell_type": "code",
      "source": [
        "from sklearn.metrics import classification_report, confusion_matrix\n",
        "import seaborn as sns\n",
        "\n",
        "y_pred_probs = model.predict(x_test_flat)\n",
        "y_pred = np.argmax(y_pred_probs, axis=1)\n",
        "y_true = y_test\n",
        "\n",
        "print(classification_report(y_true, y_pred))\n",
        "\n",
        "cm = confusion_matrix(y_true, y_pred)\n",
        "plt.figure(figsize=(8,6))\n",
        "sns.heatmap(cm, annot=True, fmt='d')\n",
        "plt.title('Confusion Matrix')\n",
        "plt.xlabel('Predicted'); plt.ylabel('True'); plt.show()\n"
      ],
      "metadata": {
        "colab": {
          "base_uri": "https://localhost:8080/",
          "height": 876
        },
        "id": "A8wNXhKgugYc",
        "outputId": "3ca470de-570d-4848-ef00-607ffbbb32ff"
      },
      "execution_count": null,
      "outputs": [
        {
          "output_type": "stream",
          "name": "stdout",
          "text": [
            "\u001b[1m313/313\u001b[0m \u001b[32m━━━━━━━━━━━━━━━━━━━━\u001b[0m\u001b[37m\u001b[0m \u001b[1m2s\u001b[0m 5ms/step\n",
            "              precision    recall  f1-score   support\n",
            "\n",
            "           0       0.98      0.99      0.99       980\n",
            "           1       0.99      0.99      0.99      1135\n",
            "           2       0.98      0.99      0.98      1032\n",
            "           3       0.98      0.98      0.98      1010\n",
            "           4       0.98      0.98      0.98       982\n",
            "           5       0.99      0.98      0.99       892\n",
            "           6       0.99      0.99      0.99       958\n",
            "           7       0.98      0.98      0.98      1028\n",
            "           8       0.99      0.98      0.98       974\n",
            "           9       0.98      0.98      0.98      1009\n",
            "\n",
            "    accuracy                           0.98     10000\n",
            "   macro avg       0.98      0.98      0.98     10000\n",
            "weighted avg       0.98      0.98      0.98     10000\n",
            "\n"
          ]
        },
        {
          "output_type": "display_data",
          "data": {
            "text/plain": [
              "<Figure size 800x600 with 2 Axes>"
            ],
            "image/png": "[encoded data removed]"
          },
          "metadata": {}
        }
      ]
    },
    {
      "cell_type": "code",
      "source": [],
      "metadata": {
        "id": "zFhOG_vTuj-S"
      },
      "execution_count": null,
      "outputs": []
    },
    {
      "cell_type": "code",
      "source": [
        "import numpy as np\n",
        "mis_idx = np.where(y_pred != y_true)[0]\n",
        "print(\"Number of misclassified:\", len(mis_idx))\n",
        "\n",
        "# show first 9 misclassified images\n",
        "import matplotlib.pyplot as plt\n",
        "plt.figure(figsize=(9,9))\n",
        "for i, idx in enumerate(mis_idx[:9]):\n",
        "    plt.subplot(3,3,i+1)\n",
        "    plt.imshow(x_test[idx], cmap='gray')\n",
        "    plt.title(f\"T:{y_true[idx]} P:{y_pred[idx]}\")\n",
        "    plt.axis('off')\n",
        "plt.show()\n"
      ],
      "metadata": {
        "colab": {
          "base_uri": "https://localhost:8080/",
          "height": 769
        },
        "id": "wqOfiOT3uo_R",
        "outputId": "87178e77-79d2-4cab-8334-60f870b73978"
      },
      "execution_count": null,
      "outputs": [
        {
          "output_type": "stream",
          "name": "stdout",
          "text": [
            "Number of misclassified: 153\n"
          ]
        },
        {
          "output_type": "display_data",
          "data": {
            "text/plain": [
              "<Figure size 900x900 with 9 Axes>"
            ],
            "image/png": "[encoded data removed]"
          },
          "metadata": {}
        }
      ]
    },
    {
      "cell_type": "code",
      "source": [
        "# Save model\n",
        "model.save(\"feedforward_mnist.h5\")\n",
        "\n",
        "# Load back\n",
        "from tensorflow.keras.models import load_model\n",
        "loaded = load_model(\"feedforward_mnist.h5\")\n",
        "\n",
        "# Predict single example\n",
        "import numpy as np\n",
        "i = 0\n",
        "sample = x_test_flat[i].reshape(1, -1)\n",
        "prob = loaded.predict(sample)\n",
        "pred_label = np.argmax(prob)\n",
        "print(\"True:\", y_test[i], \"Pred:\", pred_label)\n"
      ],
      "metadata": {
        "colab": {
          "base_uri": "https://localhost:8080/"
        },
        "id": "36_NBPONupp4",
        "outputId": "dbbb51cd-cdb8-4e05-e1b2-a4f72a324f56"
      },
      "execution_count": null,
      "outputs": [
        {
          "output_type": "stream",
          "name": "stderr",
          "text": [
            "WARNING:absl:You are saving your model as an HDF5 file via `model.save()` or `keras.saving.save_model(model)`. This file format is considered legacy. We recommend using instead the native Keras format, e.g. `model.save('my_model.keras')` or `keras.saving.save_model(model, 'my_model.keras')`. \n",
            "WARNING:absl:Compiled the loaded model, but the compiled metrics have yet to be built. `model.compile_metrics` will be empty until you train or evaluate the model.\n"
          ]
        },
        {
          "output_type": "stream",
          "name": "stdout",
          "text": [
            "\u001b[1m1/1\u001b[0m \u001b[32m━━━━━━━━━━━━━━━━━━━━\u001b[0m\u001b[37m\u001b[0m \u001b[1m0s\u001b[0m 351ms/step\n",
            "True: 7 Pred: 7\n"
          ]
        }
      ]
    },
    {
      "cell_type": "code",
      "source": [
        "def build_deep_dense(input_dim=784, num_classes=10, units=[512,256,128], dropout=0.3, l2_rate=1e-4):\n",
        "    from tensorflow.keras import layers, models, regularizers\n",
        "    model = models.Sequential([layers.Input(shape=(input_dim,))])\n",
        "    for u in units:\n",
        "        model.add(layers.Dense(u, activation='relu', kernel_regularizer=regularizers.l2(l2_rate)))\n",
        "        model.add(layers.BatchNormalization())\n",
        "        model.add(layers.Dropout(dropout))\n",
        "    model.add(layers.Dense(num_classes, activation='softmax'))\n",
        "    return model\n",
        "\n",
        "deep_model = build_deep_dense(units=[512, 256, 128], dropout=0.4)\n",
        "deep_model.compile(optimizer=Adam(1e-3), loss='categorical_crossentropy', metrics=['accuracy'])\n",
        "deep_model.summary()\n",
        "\n",
        "# Train (you can reuse callbacks)\n",
        "hist_deep = deep_model.fit(x_train_flat, y_train_cat, epochs=40, batch_size=128, validation_split=0.1, callbacks=callbacks, verbose=2)\n",
        "deep_score = deep_model.evaluate(x_test_flat, y_test_cat, verbose=2)\n",
        "print(\"Deep model - loss/acc:\", deep_score)\n"
      ],
      "metadata": {
        "colab": {
          "base_uri": "https://localhost:8080/",
          "height": 1000
        },
        "id": "KSfWfMqzusz1",
        "outputId": "ee4ffa59-b34d-4d84-dabe-0148577eaa61"
      },
      "execution_count": null,
      "outputs": [
        {
          "output_type": "display_data",
          "data": {
            "text/plain": [
              "\u001b[1mModel: \"sequential_1\"\u001b[0m\n"
            ],
            "text/html": [
              "<pre style=\"white-space:pre;overflow-x:auto;line-height:normal;font-family:Menlo,'DejaVu Sans Mono',consolas,'Courier New',monospace\"><span style=\"font-weight: bold\">Model: \"sequential_1\"</span>\n",
              "</pre>\n"
            ]
          },
          "metadata": {}
        },
        {
          "output_type": "display_data",
          "data": {
            "text/plain": [
              "┏━━━━━━━━━━━━━━━━━━━━━━━━━━━━━━━━━┳━━━━━━━━━━━━━━━━━━━━━━━━┳━━━━━━━━━━━━━━━┓\n",
              "┃\u001b[1m \u001b[0m\u001b[1mLayer (type)                   \u001b[0m\u001b[1m \u001b[0m┃\u001b[1m \u001b[0m\u001b[1mOutput Shape          \u001b[0m\u001b[1m \u001b[0m┃\u001b[1m \u001b[0m\u001b[1m      Param #\u001b[0m\u001b[1m \u001b[0m┃\n",
              "┡━━━━━━━━━━━━━━━━━━━━━━━━━━━━━━━━━╇━━━━━━━━━━━━━━━━━━━━━━━━╇━━━━━━━━━━━━━━━┩\n",
              "│ dense_2 (\u001b[38;5;33mDense\u001b[0m)                 │ (\u001b[38;5;45mNone\u001b[0m, \u001b[38;5;34m512\u001b[0m)            │       \u001b[38;5;34m401,920\u001b[0m │\n",
              "├─────────────────────────────────┼────────────────────────┼───────────────┤\n",
              "│ batch_normalization             │ (\u001b[38;5;45mNone\u001b[0m, \u001b[38;5;34m512\u001b[0m)            │         \u001b[38;5;34m2,048\u001b[0m │\n",
              "│ (\u001b[38;5;33mBatchNormalization\u001b[0m)            │                        │               │\n",
              "├─────────────────────────────────┼────────────────────────┼───────────────┤\n",
              "│ dropout_1 (\u001b[38;5;33mDropout\u001b[0m)             │ (\u001b[38;5;45mNone\u001b[0m, \u001b[38;5;34m512\u001b[0m)            │             \u001b[38;5;34m0\u001b[0m │\n",
              "├─────────────────────────────────┼────────────────────────┼───────────────┤\n",
              "│ dense_3 (\u001b[38;5;33mDense\u001b[0m)                 │ (\u001b[38;5;45mNone\u001b[0m, \u001b[38;5;34m256\u001b[0m)            │       \u001b[38;5;34m131,328\u001b[0m │\n",
              "├─────────────────────────────────┼────────────────────────┼───────────────┤\n",
              "│ batch_normalization_1           │ (\u001b[38;5;45mNone\u001b[0m, \u001b[38;5;34m256\u001b[0m)            │         \u001b[38;5;34m1,024\u001b[0m │\n",
              "│ (\u001b[38;5;33mBatchNormalization\u001b[0m)            │                        │               │\n",
              "├─────────────────────────────────┼────────────────────────┼───────────────┤\n",
              "│ dropout_2 (\u001b[38;5;33mDropout\u001b[0m)             │ (\u001b[38;5;45mNone\u001b[0m, \u001b[38;5;34m256\u001b[0m)            │             \u001b[38;5;34m0\u001b[0m │\n",
              "├─────────────────────────────────┼────────────────────────┼───────────────┤\n",
              "│ dense_4 (\u001b[38;5;33mDense\u001b[0m)                 │ (\u001b[38;5;45mNone\u001b[0m, \u001b[38;5;34m128\u001b[0m)            │        \u001b[38;5;34m32,896\u001b[0m │\n",
              "├─────────────────────────────────┼────────────────────────┼───────────────┤\n",
              "│ batch_normalization_2           │ (\u001b[38;5;45mNone\u001b[0m, \u001b[38;5;34m128\u001b[0m)            │           \u001b[38;5;34m512\u001b[0m │\n",
              "│ (\u001b[38;5;33mBatchNormalization\u001b[0m)            │                        │               │\n",
              "├─────────────────────────────────┼────────────────────────┼───────────────┤\n",
              "│ dropout_3 (\u001b[38;5;33mDropout\u001b[0m)             │ (\u001b[38;5;45mNone\u001b[0m, \u001b[38;5;34m128\u001b[0m)            │             \u001b[38;5;34m0\u001b[0m │\n",
              "├─────────────────────────────────┼────────────────────────┼───────────────┤\n",
              "│ dense_5 (\u001b[38;5;33mDense\u001b[0m)                 │ (\u001b[38;5;45mNone\u001b[0m, \u001b[38;5;34m10\u001b[0m)             │         \u001b[38;5;34m1,290\u001b[0m │\n",
              "└─────────────────────────────────┴────────────────────────┴───────────────┘\n"
            ],
            "text/html": [
              "<pre style=\"white-space:pre;overflow-x:auto;line-height:normal;font-family:Menlo,'DejaVu Sans Mono',consolas,'Courier New',monospace\">┏━━━━━━━━━━━━━━━━━━━━━━━━━━━━━━━━━┳━━━━━━━━━━━━━━━━━━━━━━━━┳━━━━━━━━━━━━━━━┓\n",
              "┃<span style=\"font-weight: bold\"> Layer (type)                    </span>┃<span style=\"font-weight: bold\"> Output Shape           </span>┃<span style=\"font-weight: bold\">       Param # </span>┃\n",
              "┡━━━━━━━━━━━━━━━━━━━━━━━━━━━━━━━━━╇━━━━━━━━━━━━━━━━━━━━━━━━╇━━━━━━━━━━━━━━━┩\n",
              "│ dense_2 (<span style=\"color: #0087ff; text-decoration-color: #0087ff\">Dense</span>)                 │ (<span style=\"color: #00d7ff; text-decoration-color: #00d7ff\">None</span>, <span style=\"color: #00af00; text-decoration-color: #00af00\">512</span>)            │       <span style=\"color: #00af00; text-decoration-color: #00af00\">401,920</span> │\n",
              "├─────────────────────────────────┼────────────────────────┼───────────────┤\n",
              "│ batch_normalization             │ (<span style=\"color: #00d7ff; text-decoration-color: #00d7ff\">None</span>, <span style=\"color: #00af00; text-decoration-color: #00af00\">512</span>)            │         <span style=\"color: #00af00; text-decoration-color: #00af00\">2,048</span> │\n",
              "│ (<span style=\"color: #0087ff; text-decoration-color: #0087ff\">BatchNormalization</span>)            │                        │               │\n",
              "├─────────────────────────────────┼────────────────────────┼───────────────┤\n",
              "│ dropout_1 (<span style=\"color: #0087ff; text-decoration-color: #0087ff\">Dropout</span>)             │ (<span style=\"color: #00d7ff; text-decoration-color: #00d7ff\">None</span>, <span style=\"color: #00af00; text-decoration-color: #00af00\">512</span>)            │             <span style=\"color: #00af00; text-decoration-color: #00af00\">0</span> │\n",
              "├─────────────────────────────────┼────────────────────────┼───────────────┤\n",
              "│ dense_3 (<span style=\"color: #0087ff; text-decoration-color: #0087ff\">Dense</span>)                 │ (<span style=\"color: #00d7ff; text-decoration-color: #00d7ff\">None</span>, <span style=\"color: #00af00; text-decoration-color: #00af00\">256</span>)            │       <span style=\"color: #00af00; text-decoration-color: #00af00\">131,328</span> │\n",
              "├─────────────────────────────────┼────────────────────────┼───────────────┤\n",
              "│ batch_normalization_1           │ (<span style=\"color: #00d7ff; text-decoration-color: #00d7ff\">None</span>, <span style=\"color: #00af00; text-decoration-color: #00af00\">256</span>)            │         <span style=\"color: #00af00; text-decoration-color: #00af00\">1,024</span> │\n",
              "│ (<span style=\"color: #0087ff; text-decoration-color: #0087ff\">BatchNormalization</span>)            │                        │               │\n",
              "├─────────────────────────────────┼────────────────────────┼───────────────┤\n",
              "│ dropout_2 (<span style=\"color: #0087ff; text-decoration-color: #0087ff\">Dropout</span>)             │ (<span style=\"color: #00d7ff; text-decoration-color: #00d7ff\">None</span>, <span style=\"color: #00af00; text-decoration-color: #00af00\">256</span>)            │             <span style=\"color: #00af00; text-decoration-color: #00af00\">0</span> │\n",
              "├─────────────────────────────────┼────────────────────────┼───────────────┤\n",
              "│ dense_4 (<span style=\"color: #0087ff; text-decoration-color: #0087ff\">Dense</span>)                 │ (<span style=\"color: #00d7ff; text-decoration-color: #00d7ff\">None</span>, <span style=\"color: #00af00; text-decoration-color: #00af00\">128</span>)            │        <span style=\"color: #00af00; text-decoration-color: #00af00\">32,896</span> │\n",
              "├─────────────────────────────────┼────────────────────────┼───────────────┤\n",
              "│ batch_normalization_2           │ (<span style=\"color: #00d7ff; text-decoration-color: #00d7ff\">None</span>, <span style=\"color: #00af00; text-decoration-color: #00af00\">128</span>)            │           <span style=\"color: #00af00; text-decoration-color: #00af00\">512</span> │\n",
              "│ (<span style=\"color: #0087ff; text-decoration-color: #0087ff\">BatchNormalization</span>)            │                        │               │\n",
              "├─────────────────────────────────┼────────────────────────┼───────────────┤\n",
              "│ dropout_3 (<span style=\"color: #0087ff; text-decoration-color: #0087ff\">Dropout</span>)             │ (<span style=\"color: #00d7ff; text-decoration-color: #00d7ff\">None</span>, <span style=\"color: #00af00; text-decoration-color: #00af00\">128</span>)            │             <span style=\"color: #00af00; text-decoration-color: #00af00\">0</span> │\n",
              "├─────────────────────────────────┼────────────────────────┼───────────────┤\n",
              "│ dense_5 (<span style=\"color: #0087ff; text-decoration-color: #0087ff\">Dense</span>)                 │ (<span style=\"color: #00d7ff; text-decoration-color: #00d7ff\">None</span>, <span style=\"color: #00af00; text-decoration-color: #00af00\">10</span>)             │         <span style=\"color: #00af00; text-decoration-color: #00af00\">1,290</span> │\n",
              "└─────────────────────────────────┴────────────────────────┴───────────────┘\n",
              "</pre>\n"
            ]
          },
          "metadata": {}
        },
        {
          "output_type": "display_data",
          "data": {
            "text/plain": [
              "\u001b[1m Total params: \u001b[0m\u001b[38;5;34m571,018\u001b[0m (2.18 MB)\n"
            ],
            "text/html": [
              "<pre style=\"white-space:pre;overflow-x:auto;line-height:normal;font-family:Menlo,'DejaVu Sans Mono',consolas,'Courier New',monospace\"><span style=\"font-weight: bold\"> Total params: </span><span style=\"color: #00af00; text-decoration-color: #00af00\">571,018</span> (2.18 MB)\n",
              "</pre>\n"
            ]
          },
          "metadata": {}
        },
        {
          "output_type": "display_data",
          "data": {
            "text/plain": [
              "\u001b[1m Trainable params: \u001b[0m\u001b[38;5;34m569,226\u001b[0m (2.17 MB)\n"
            ],
            "text/html": [
              "<pre style=\"white-space:pre;overflow-x:auto;line-height:normal;font-family:Menlo,'DejaVu Sans Mono',consolas,'Courier New',monospace\"><span style=\"font-weight: bold\"> Trainable params: </span><span style=\"color: #00af00; text-decoration-color: #00af00\">569,226</span> (2.17 MB)\n",
              "</pre>\n"
            ]
          },
          "metadata": {}
        },
        {
          "output_type": "display_data",
          "data": {
            "text/plain": [
              "\u001b[1m Non-trainable params: \u001b[0m\u001b[38;5;34m1,792\u001b[0m (7.00 KB)\n"
            ],
            "text/html": [
              "<pre style=\"white-space:pre;overflow-x:auto;line-height:normal;font-family:Menlo,'DejaVu Sans Mono',consolas,'Courier New',monospace\"><span style=\"font-weight: bold\"> Non-trainable params: </span><span style=\"color: #00af00; text-decoration-color: #00af00\">1,792</span> (7.00 KB)\n",
              "</pre>\n"
            ]
          },
          "metadata": {}
        },
        {
          "output_type": "stream",
          "name": "stdout",
          "text": [
            "Epoch 1/40\n",
            "\n",
            "Epoch 1: val_loss did not improve from 0.06951\n",
            "422/422 - 13s - 31ms/step - accuracy: 0.8659 - loss: 0.5339 - val_accuracy: 0.9662 - val_loss: 0.2130 - learning_rate: 1.0000e-03\n",
            "Epoch 2/40\n",
            "\n",
            "Epoch 2: val_loss did not improve from 0.06951\n",
            "422/422 - 1s - 3ms/step - accuracy: 0.9411 - loss: 0.2944 - val_accuracy: 0.9723 - val_loss: 0.1840 - learning_rate: 1.0000e-03\n",
            "Epoch 3/40\n",
            "\n",
            "Epoch 3: val_loss did not improve from 0.06951\n",
            "422/422 - 3s - 6ms/step - accuracy: 0.9538 - loss: 0.2521 - val_accuracy: 0.9760 - val_loss: 0.1723 - learning_rate: 1.0000e-03\n",
            "Epoch 4/40\n",
            "\n",
            "Epoch 4: val_loss did not improve from 0.06951\n",
            "422/422 - 3s - 6ms/step - accuracy: 0.9601 - loss: 0.2256 - val_accuracy: 0.9778 - val_loss: 0.1716 - learning_rate: 1.0000e-03\n",
            "Epoch 5/40\n",
            "\n",
            "Epoch 5: val_loss did not improve from 0.06951\n",
            "422/422 - 3s - 7ms/step - accuracy: 0.9641 - loss: 0.2120 - val_accuracy: 0.9805 - val_loss: 0.1620 - learning_rate: 1.0000e-03\n",
            "Epoch 6/40\n",
            "\n",
            "Epoch 6: val_loss did not improve from 0.06951\n",
            "422/422 - 2s - 5ms/step - accuracy: 0.9679 - loss: 0.1975 - val_accuracy: 0.9778 - val_loss: 0.1649 - learning_rate: 1.0000e-03\n",
            "Epoch 7/40\n",
            "\n",
            "Epoch 7: val_loss did not improve from 0.06951\n",
            "422/422 - 1s - 3ms/step - accuracy: 0.9702 - loss: 0.1891 - val_accuracy: 0.9800 - val_loss: 0.1584 - learning_rate: 1.0000e-03\n",
            "Epoch 8/40\n",
            "\n",
            "Epoch 8: val_loss did not improve from 0.06951\n",
            "422/422 - 3s - 6ms/step - accuracy: 0.9722 - loss: 0.1826 - val_accuracy: 0.9803 - val_loss: 0.1550 - learning_rate: 1.0000e-03\n",
            "Epoch 9/40\n",
            "\n",
            "Epoch 9: val_loss did not improve from 0.06951\n",
            "422/422 - 1s - 3ms/step - accuracy: 0.9732 - loss: 0.1779 - val_accuracy: 0.9807 - val_loss: 0.1583 - learning_rate: 1.0000e-03\n",
            "Epoch 10/40\n",
            "\n",
            "Epoch 10: val_loss did not improve from 0.06951\n",
            "422/422 - 1s - 3ms/step - accuracy: 0.9734 - loss: 0.1762 - val_accuracy: 0.9818 - val_loss: 0.1558 - learning_rate: 1.0000e-03\n",
            "Epoch 11/40\n",
            "\n",
            "Epoch 11: val_loss did not improve from 0.06951\n",
            "422/422 - 1s - 3ms/step - accuracy: 0.9751 - loss: 0.1727 - val_accuracy: 0.9838 - val_loss: 0.1503 - learning_rate: 1.0000e-03\n",
            "Epoch 12/40\n",
            "\n",
            "Epoch 12: val_loss did not improve from 0.06951\n",
            "422/422 - 2s - 5ms/step - accuracy: 0.9758 - loss: 0.1682 - val_accuracy: 0.9847 - val_loss: 0.1449 - learning_rate: 1.0000e-03\n",
            "Epoch 13/40\n",
            "\n",
            "Epoch 13: val_loss did not improve from 0.06951\n",
            "422/422 - 2s - 5ms/step - accuracy: 0.9772 - loss: 0.1631 - val_accuracy: 0.9823 - val_loss: 0.1508 - learning_rate: 1.0000e-03\n",
            "Epoch 14/40\n",
            "\n",
            "Epoch 14: val_loss did not improve from 0.06951\n",
            "422/422 - 2s - 6ms/step - accuracy: 0.9763 - loss: 0.1661 - val_accuracy: 0.9830 - val_loss: 0.1538 - learning_rate: 1.0000e-03\n",
            "Epoch 15/40\n",
            "\n",
            "Epoch 15: val_loss did not improve from 0.06951\n",
            "\n",
            "Epoch 15: ReduceLROnPlateau reducing learning rate to 0.0005000000237487257.\n",
            "422/422 - 3s - 6ms/step - accuracy: 0.9764 - loss: 0.1655 - val_accuracy: 0.9818 - val_loss: 0.1518 - learning_rate: 1.0000e-03\n",
            "Epoch 16/40\n",
            "\n",
            "Epoch 16: val_loss did not improve from 0.06951\n",
            "422/422 - 3s - 6ms/step - accuracy: 0.9828 - loss: 0.1418 - val_accuracy: 0.9860 - val_loss: 0.1414 - learning_rate: 5.0000e-04\n",
            "Epoch 17/40\n",
            "\n",
            "Epoch 17: val_loss did not improve from 0.06951\n",
            "422/422 - 2s - 4ms/step - accuracy: 0.9860 - loss: 0.1287 - val_accuracy: 0.9853 - val_loss: 0.1345 - learning_rate: 5.0000e-04\n",
            "Epoch 18/40\n",
            "\n",
            "Epoch 18: val_loss did not improve from 0.06951\n",
            "422/422 - 2s - 5ms/step - accuracy: 0.9870 - loss: 0.1213 - val_accuracy: 0.9853 - val_loss: 0.1300 - learning_rate: 5.0000e-04\n",
            "Epoch 19/40\n",
            "\n",
            "Epoch 19: val_loss did not improve from 0.06951\n",
            "422/422 - 3s - 6ms/step - accuracy: 0.9861 - loss: 0.1183 - val_accuracy: 0.9835 - val_loss: 0.1330 - learning_rate: 5.0000e-04\n",
            "Epoch 20/40\n",
            "\n",
            "Epoch 20: val_loss did not improve from 0.06951\n",
            "422/422 - 2s - 6ms/step - accuracy: 0.9870 - loss: 0.1143 - val_accuracy: 0.9858 - val_loss: 0.1278 - learning_rate: 5.0000e-04\n",
            "Epoch 21/40\n",
            "\n",
            "Epoch 21: val_loss did not improve from 0.06951\n",
            "422/422 - 1s - 3ms/step - accuracy: 0.9863 - loss: 0.1119 - val_accuracy: 0.9862 - val_loss: 0.1225 - learning_rate: 5.0000e-04\n",
            "Epoch 22/40\n",
            "\n",
            "Epoch 22: val_loss did not improve from 0.06951\n",
            "422/422 - 3s - 7ms/step - accuracy: 0.9865 - loss: 0.1098 - val_accuracy: 0.9858 - val_loss: 0.1243 - learning_rate: 5.0000e-04\n",
            "Epoch 23/40\n",
            "\n",
            "Epoch 23: val_loss did not improve from 0.06951\n",
            "422/422 - 2s - 5ms/step - accuracy: 0.9868 - loss: 0.1070 - val_accuracy: 0.9865 - val_loss: 0.1204 - learning_rate: 5.0000e-04\n",
            "Epoch 24/40\n",
            "\n",
            "Epoch 24: val_loss did not improve from 0.06951\n",
            "422/422 - 3s - 6ms/step - accuracy: 0.9876 - loss: 0.1024 - val_accuracy: 0.9875 - val_loss: 0.1179 - learning_rate: 5.0000e-04\n",
            "Epoch 25/40\n",
            "\n",
            "Epoch 25: val_loss did not improve from 0.06951\n",
            "422/422 - 3s - 6ms/step - accuracy: 0.9871 - loss: 0.1026 - val_accuracy: 0.9857 - val_loss: 0.1226 - learning_rate: 5.0000e-04\n",
            "Epoch 26/40\n",
            "\n",
            "Epoch 26: val_loss did not improve from 0.06951\n",
            "422/422 - 1s - 3ms/step - accuracy: 0.9873 - loss: 0.1024 - val_accuracy: 0.9837 - val_loss: 0.1302 - learning_rate: 5.0000e-04\n",
            "Epoch 27/40\n",
            "\n",
            "Epoch 27: val_loss did not improve from 0.06951\n",
            "\n",
            "Epoch 27: ReduceLROnPlateau reducing learning rate to 0.0002500000118743628.\n",
            "422/422 - 1s - 3ms/step - accuracy: 0.9877 - loss: 0.0993 - val_accuracy: 0.9830 - val_loss: 0.1285 - learning_rate: 5.0000e-04\n",
            "Epoch 28/40\n",
            "\n",
            "Epoch 28: val_loss did not improve from 0.06951\n",
            "422/422 - 2s - 4ms/step - accuracy: 0.9903 - loss: 0.0905 - val_accuracy: 0.9878 - val_loss: 0.1116 - learning_rate: 2.5000e-04\n",
            "Epoch 29/40\n",
            "\n",
            "Epoch 29: val_loss did not improve from 0.06951\n",
            "422/422 - 2s - 4ms/step - accuracy: 0.9921 - loss: 0.0840 - val_accuracy: 0.9865 - val_loss: 0.1112 - learning_rate: 2.5000e-04\n",
            "Epoch 30/40\n",
            "\n",
            "Epoch 30: val_loss did not improve from 0.06951\n",
            "422/422 - 2s - 5ms/step - accuracy: 0.9928 - loss: 0.0801 - val_accuracy: 0.9873 - val_loss: 0.1101 - learning_rate: 2.5000e-04\n",
            "Epoch 31/40\n",
            "\n",
            "Epoch 31: val_loss did not improve from 0.06951\n",
            "422/422 - 3s - 6ms/step - accuracy: 0.9936 - loss: 0.0758 - val_accuracy: 0.9883 - val_loss: 0.1086 - learning_rate: 2.5000e-04\n",
            "Epoch 32/40\n",
            "\n",
            "Epoch 32: val_loss did not improve from 0.06951\n",
            "422/422 - 1s - 3ms/step - accuracy: 0.9926 - loss: 0.0760 - val_accuracy: 0.9873 - val_loss: 0.1099 - learning_rate: 2.5000e-04\n",
            "Epoch 33/40\n",
            "\n",
            "Epoch 33: val_loss did not improve from 0.06951\n",
            "422/422 - 1s - 3ms/step - accuracy: 0.9936 - loss: 0.0728 - val_accuracy: 0.9875 - val_loss: 0.1061 - learning_rate: 2.5000e-04\n",
            "Epoch 34/40\n",
            "\n",
            "Epoch 34: val_loss did not improve from 0.06951\n",
            "422/422 - 3s - 7ms/step - accuracy: 0.9931 - loss: 0.0720 - val_accuracy: 0.9882 - val_loss: 0.1028 - learning_rate: 2.5000e-04\n",
            "Epoch 35/40\n",
            "\n",
            "Epoch 35: val_loss did not improve from 0.06951\n",
            "422/422 - 2s - 5ms/step - accuracy: 0.9932 - loss: 0.0711 - val_accuracy: 0.9867 - val_loss: 0.1105 - learning_rate: 2.5000e-04\n",
            "Epoch 36/40\n",
            "\n",
            "Epoch 36: val_loss did not improve from 0.06951\n",
            "422/422 - 3s - 6ms/step - accuracy: 0.9937 - loss: 0.0691 - val_accuracy: 0.9870 - val_loss: 0.1071 - learning_rate: 2.5000e-04\n",
            "Epoch 37/40\n",
            "\n",
            "Epoch 37: val_loss did not improve from 0.06951\n",
            "\n",
            "Epoch 37: ReduceLROnPlateau reducing learning rate to 0.0001250000059371814.\n",
            "422/422 - 1s - 3ms/step - accuracy: 0.9942 - loss: 0.0661 - val_accuracy: 0.9883 - val_loss: 0.1043 - learning_rate: 2.5000e-04\n",
            "Epoch 38/40\n",
            "\n",
            "Epoch 38: val_loss did not improve from 0.06951\n",
            "422/422 - 1s - 3ms/step - accuracy: 0.9946 - loss: 0.0642 - val_accuracy: 0.9867 - val_loss: 0.1031 - learning_rate: 1.2500e-04\n",
            "Epoch 39/40\n",
            "\n",
            "Epoch 39: val_loss did not improve from 0.06951\n",
            "422/422 - 1s - 3ms/step - accuracy: 0.9957 - loss: 0.0609 - val_accuracy: 0.9870 - val_loss: 0.1038 - learning_rate: 1.2500e-04\n",
            "Epoch 40/40\n",
            "\n",
            "Epoch 40: val_loss did not improve from 0.06951\n",
            "422/422 - 1s - 3ms/step - accuracy: 0.9959 - loss: 0.0587 - val_accuracy: 0.9880 - val_loss: 0.1007 - learning_rate: 1.2500e-04\n",
            "Restoring model weights from the end of the best epoch: 40.\n",
            "313/313 - 2s - 7ms/step - accuracy: 0.9866 - loss: 0.0996\n",
            "Deep model - loss/acc: [0.09957151114940643, 0.9865999817848206]\n"
          ]
        }
      ]
    },
    {
      "cell_type": "code",
      "source": [],
      "metadata": {
        "id": "Fgu0rQHBvWCn"
      },
      "execution_count": null,
      "outputs": []
    },
    {
      "cell_type": "code",
      "source": [
        "# Replace '/content/data.csv' with path to your CSV in Colab (upload via left pane or drive)\n",
        "import pandas as pd\n",
        "from sklearn.model_selection import train_test_split\n",
        "from sklearn.preprocessing import StandardScaler, LabelEncoder\n",
        "\n",
        "df = pd.read_csv('/content/data.csv')  # <-- change this\n",
        "# assume 'label' column is the target\n",
        "if 'label' not in df.columns:\n",
        "    raise ValueError(\"CSV must contain a 'label' column\")\n",
        "\n",
        "X = df.drop(columns=['label']).values\n",
        "y = df['label'].values\n",
        "\n",
        "# If labels are strings, encode them\n",
        "le = LabelEncoder()\n",
        "y_enc = le.fit_transform(y)\n",
        "num_classes = len(np.unique(y_enc))\n",
        "\n",
        "# If binary classification:\n",
        "if num_classes == 2:\n",
        "    loss = 'binary_crossentropy'\n",
        "    final_activation = 'sigmoid'\n",
        "    y_target = y_enc  # shape (n,)\n",
        "else:\n",
        "    loss = 'categorical_crossentropy'\n",
        "    final_activation = 'softmax'\n",
        "    y_target = to_categorical(y_enc, num_classes)\n",
        "\n",
        "# Split & scale\n",
        "X_train, X_test, y_train, y_test = train_test_split(X, y_target, test_size=0.2, random_state=SEED, stratify=y_enc)\n",
        "scaler = StandardScaler()\n",
        "X_train = scaler.fit_transform(X_train)\n",
        "X_test  = scaler.transform(X_test)\n",
        "\n",
        "# Build a simple dense model for tabular data\n",
        "input_dim = X_train.shape[1]\n",
        "model_tab = models.Sequential([\n",
        "    layers.Input(shape=(input_dim,)),\n",
        "    layers.Dense(128, activation='relu'),\n",
        "    layers.BatchNormalization(),\n",
        "    layers.Dropout(0.3),\n",
        "    layers.Dense(64, activation='relu'),\n",
        "    layers.Dense(num_classes if num_classes>2 else 1, activation=final_activation)\n",
        "])\n",
        "\n",
        "model_tab.compile(optimizer=Adam(1e-3), loss=loss, metrics=['accuracy'])\n",
        "model_tab.fit(X_train, y_train, epochs=50, batch_size=32, validation_split=0.1, callbacks=callbacks, verbose=2)\n"
      ],
      "metadata": {
        "colab": {
          "base_uri": "https://localhost:8080/",
          "height": 373
        },
        "id": "dHJj-J-5vatj",
        "outputId": "eb425464-df66-48e4-95b8-fb577dd46136"
      },
      "execution_count": null,
      "outputs": [
        {
          "output_type": "error",
          "ename": "FileNotFoundError",
          "evalue": "[Errno 2] No such file or directory: '/content/data.csv'",
          "traceback": [
            "\u001b[0;31m---------------------------------------------------------------------------\u001b[0m",
            "\u001b[0;31mFileNotFoundError\u001b[0m                         Traceback (most recent call last)",
            "\u001b[0;32m/tmp/ipython-input-4206117688.py\u001b[0m in \u001b[0;36m<cell line: 0>\u001b[0;34m()\u001b[0m\n\u001b[1;32m      4\u001b[0m \u001b[0;32mfrom\u001b[0m \u001b[0msklearn\u001b[0m\u001b[0;34m.\u001b[0m\u001b[0mpreprocessing\u001b[0m \u001b[0;32mimport\u001b[0m \u001b[0mStandardScaler\u001b[0m\u001b[0;34m,\u001b[0m \u001b[0mLabelEncoder\u001b[0m\u001b[0;34m\u001b[0m\u001b[0;34m\u001b[0m\u001b[0m\n\u001b[1;32m      5\u001b[0m \u001b[0;34m\u001b[0m\u001b[0m\n\u001b[0;32m----> 6\u001b[0;31m \u001b[0mdf\u001b[0m \u001b[0;34m=\u001b[0m \u001b[0mpd\u001b[0m\u001b[0;34m.\u001b[0m\u001b[0mread_csv\u001b[0m\u001b[0;34m(\u001b[0m\u001b[0;34m'/content/data.csv'\u001b[0m\u001b[0;34m)\u001b[0m  \u001b[0;31m# <-- change this\u001b[0m\u001b[0;34m\u001b[0m\u001b[0;34m\u001b[0m\u001b[0m\n\u001b[0m\u001b[1;32m      7\u001b[0m \u001b[0;31m# assume 'label' column is the target\u001b[0m\u001b[0;34m\u001b[0m\u001b[0;34m\u001b[0m\u001b[0m\n\u001b[1;32m      8\u001b[0m \u001b[0;32mif\u001b[0m \u001b[0;34m'label'\u001b[0m \u001b[0;32mnot\u001b[0m \u001b[0;32min\u001b[0m \u001b[0mdf\u001b[0m\u001b[0;34m.\u001b[0m\u001b[0mcolumns\u001b[0m\u001b[0;34m:\u001b[0m\u001b[0;34m\u001b[0m\u001b[0;34m\u001b[0m\u001b[0m\n",
            "\u001b[0;32m/usr/local/lib/python3.12/dist-packages/pandas/io/parsers/readers.py\u001b[0m in \u001b[0;36mread_csv\u001b[0;34m(filepath_or_buffer, sep, delimiter, header, names, index_col, usecols, dtype, engine, converters, true_values, false_values, skipinitialspace, skiprows, skipfooter, nrows, na_values, keep_default_na, na_filter, verbose, skip_blank_lines, parse_dates, infer_datetime_format, keep_date_col, date_parser, date_format, dayfirst, cache_dates, iterator, chunksize, compression, thousands, decimal, lineterminator, quotechar, quoting, doublequote, escapechar, comment, encoding, encoding_errors, dialect, on_bad_lines, delim_whitespace, low_memory, memory_map, float_precision, storage_options, dtype_backend)\u001b[0m\n\u001b[1;32m   1024\u001b[0m     \u001b[0mkwds\u001b[0m\u001b[0;34m.\u001b[0m\u001b[0mupdate\u001b[0m\u001b[0;34m(\u001b[0m\u001b[0mkwds_defaults\u001b[0m\u001b[0;34m)\u001b[0m\u001b[0;34m\u001b[0m\u001b[0;34m\u001b[0m\u001b[0m\n\u001b[1;32m   1025\u001b[0m \u001b[0;34m\u001b[0m\u001b[0m\n\u001b[0;32m-> 1026\u001b[0;31m     \u001b[0;32mreturn\u001b[0m \u001b[0m_read\u001b[0m\u001b[0;34m(\u001b[0m\u001b[0mfilepath_or_buffer\u001b[0m\u001b[0;34m,\u001b[0m \u001b[0mkwds\u001b[0m\u001b[0;34m)\u001b[0m\u001b[0;34m\u001b[0m\u001b[0;34m\u001b[0m\u001b[0m\n\u001b[0m\u001b[1;32m   1027\u001b[0m \u001b[0;34m\u001b[0m\u001b[0m\n\u001b[1;32m   1028\u001b[0m \u001b[0;34m\u001b[0m\u001b[0m\n",
            "\u001b[0;32m/usr/local/lib/python3.12/dist-packages/pandas/io/parsers/readers.py\u001b[0m in \u001b[0;36m_read\u001b[0;34m(filepath_or_buffer, kwds)\u001b[0m\n\u001b[1;32m    618\u001b[0m \u001b[0;34m\u001b[0m\u001b[0m\n\u001b[1;32m    619\u001b[0m     \u001b[0;31m# Create the parser.\u001b[0m\u001b[0;34m\u001b[0m\u001b[0;34m\u001b[0m\u001b[0m\n\u001b[0;32m--> 620\u001b[0;31m     \u001b[0mparser\u001b[0m \u001b[0;34m=\u001b[0m \u001b[0mTextFileReader\u001b[0m\u001b[0;34m(\u001b[0m\u001b[0mfilepath_or_buffer\u001b[0m\u001b[0;34m,\u001b[0m \u001b[0;34m**\u001b[0m\u001b[0mkwds\u001b[0m\u001b[0;34m)\u001b[0m\u001b[0;34m\u001b[0m\u001b[0;34m\u001b[0m\u001b[0m\n\u001b[0m\u001b[1;32m    621\u001b[0m \u001b[0;34m\u001b[0m\u001b[0m\n\u001b[1;32m    622\u001b[0m     \u001b[0;32mif\u001b[0m \u001b[0mchunksize\u001b[0m \u001b[0;32mor\u001b[0m \u001b[0miterator\u001b[0m\u001b[0;34m:\u001b[0m\u001b[0;34m\u001b[0m\u001b[0;34m\u001b[0m\u001b[0m\n",
            "\u001b[0;32m/usr/local/lib/python3.12/dist-packages/pandas/io/parsers/readers.py\u001b[0m in \u001b[0;36m__init__\u001b[0;34m(self, f, engine, **kwds)\u001b[0m\n\u001b[1;32m   1618\u001b[0m \u001b[0;34m\u001b[0m\u001b[0m\n\u001b[1;32m   1619\u001b[0m         \u001b[0mself\u001b[0m\u001b[0;34m.\u001b[0m\u001b[0mhandles\u001b[0m\u001b[0;34m:\u001b[0m \u001b[0mIOHandles\u001b[0m \u001b[0;34m|\u001b[0m \u001b[0;32mNone\u001b[0m \u001b[0;34m=\u001b[0m \u001b[0;32mNone\u001b[0m\u001b[0;34m\u001b[0m\u001b[0;34m\u001b[0m\u001b[0m\n\u001b[0;32m-> 1620\u001b[0;31m         \u001b[0mself\u001b[0m\u001b[0;34m.\u001b[0m\u001b[0m_engine\u001b[0m \u001b[0;34m=\u001b[0m \u001b[0mself\u001b[0m\u001b[0;34m.\u001b[0m\u001b[0m_make_engine\u001b[0m\u001b[0;34m(\u001b[0m\u001b[0mf\u001b[0m\u001b[0;34m,\u001b[0m \u001b[0mself\u001b[0m\u001b[0;34m.\u001b[0m\u001b[0mengine\u001b[0m\u001b[0;34m)\u001b[0m\u001b[0;34m\u001b[0m\u001b[0;34m\u001b[0m\u001b[0m\n\u001b[0m\u001b[1;32m   1621\u001b[0m \u001b[0;34m\u001b[0m\u001b[0m\n\u001b[1;32m   1622\u001b[0m     \u001b[0;32mdef\u001b[0m \u001b[0mclose\u001b[0m\u001b[0;34m(\u001b[0m\u001b[0mself\u001b[0m\u001b[0;34m)\u001b[0m \u001b[0;34m->\u001b[0m \u001b[0;32mNone\u001b[0m\u001b[0;34m:\u001b[0m\u001b[0;34m\u001b[0m\u001b[0;34m\u001b[0m\u001b[0m\n",
            "\u001b[0;32m/usr/local/lib/python3.12/dist-packages/pandas/io/parsers/readers.py\u001b[0m in \u001b[0;36m_make_engine\u001b[0;34m(self, f, engine)\u001b[0m\n\u001b[1;32m   1878\u001b[0m                 \u001b[0;32mif\u001b[0m \u001b[0;34m\"b\"\u001b[0m \u001b[0;32mnot\u001b[0m \u001b[0;32min\u001b[0m \u001b[0mmode\u001b[0m\u001b[0;34m:\u001b[0m\u001b[0;34m\u001b[0m\u001b[0;34m\u001b[0m\u001b[0m\n\u001b[1;32m   1879\u001b[0m                     \u001b[0mmode\u001b[0m \u001b[0;34m+=\u001b[0m \u001b[0;34m\"b\"\u001b[0m\u001b[0;34m\u001b[0m\u001b[0;34m\u001b[0m\u001b[0m\n\u001b[0;32m-> 1880\u001b[0;31m             self.handles = get_handle(\n\u001b[0m\u001b[1;32m   1881\u001b[0m                 \u001b[0mf\u001b[0m\u001b[0;34m,\u001b[0m\u001b[0;34m\u001b[0m\u001b[0;34m\u001b[0m\u001b[0m\n\u001b[1;32m   1882\u001b[0m                 \u001b[0mmode\u001b[0m\u001b[0;34m,\u001b[0m\u001b[0;34m\u001b[0m\u001b[0;34m\u001b[0m\u001b[0m\n",
            "\u001b[0;32m/usr/local/lib/python3.12/dist-packages/pandas/io/common.py\u001b[0m in \u001b[0;36mget_handle\u001b[0;34m(path_or_buf, mode, encoding, compression, memory_map, is_text, errors, storage_options)\u001b[0m\n\u001b[1;32m    871\u001b[0m         \u001b[0;32mif\u001b[0m \u001b[0mioargs\u001b[0m\u001b[0;34m.\u001b[0m\u001b[0mencoding\u001b[0m \u001b[0;32mand\u001b[0m \u001b[0;34m\"b\"\u001b[0m \u001b[0;32mnot\u001b[0m \u001b[0;32min\u001b[0m \u001b[0mioargs\u001b[0m\u001b[0;34m.\u001b[0m\u001b[0mmode\u001b[0m\u001b[0;34m:\u001b[0m\u001b[0;34m\u001b[0m\u001b[0;34m\u001b[0m\u001b[0m\n\u001b[1;32m    872\u001b[0m             \u001b[0;31m# Encoding\u001b[0m\u001b[0;34m\u001b[0m\u001b[0;34m\u001b[0m\u001b[0m\n\u001b[0;32m--> 873\u001b[0;31m             handle = open(\n\u001b[0m\u001b[1;32m    874\u001b[0m                 \u001b[0mhandle\u001b[0m\u001b[0;34m,\u001b[0m\u001b[0;34m\u001b[0m\u001b[0;34m\u001b[0m\u001b[0m\n\u001b[1;32m    875\u001b[0m                 \u001b[0mioargs\u001b[0m\u001b[0;34m.\u001b[0m\u001b[0mmode\u001b[0m\u001b[0;34m,\u001b[0m\u001b[0;34m\u001b[0m\u001b[0;34m\u001b[0m\u001b[0m\n",
            "\u001b[0;31mFileNotFoundError\u001b[0m: [Errno 2] No such file or directory: '/content/data.csv'"
          ]
        }
      ]
    },
    {
      "cell_type": "code",
      "source": [
        "from tensorflow.keras.datasets import mnist\n",
        "\n",
        "# This line will automatically download MNIST if it's not already cached\n",
        "(x_train, y_train), (x_test, y_test) = mnist.load_data()\n"
      ],
      "metadata": {
        "id": "JtjKkzcbvbTz"
      },
      "execution_count": null,
      "outputs": []
    },
    {
      "cell_type": "code",
      "source": [
        "import numpy as np\n",
        "from tensorflow.keras.utils import to_categorical\n",
        "\n",
        "# Flatten: 28x28 -> 784\n",
        "x_train_flat = x_train.reshape(-1, 28*28).astype(\"float32\") / 255.0\n",
        "x_test_flat  = x_test.reshape(-1, 28*28).astype(\"float32\") / 255.0\n",
        "\n",
        "# One-hot encode labels\n",
        "y_train_cat = to_categorical(y_train, 10)\n",
        "y_test_cat  = to_categorical(y_test, 10)\n",
        "\n",
        "print(\"Train shape:\", x_train_flat.shape, y_train_cat.shape)\n",
        "print(\"Test shape:\", x_test_flat.shape, y_test_cat.shape)\n"
      ],
      "metadata": {
        "colab": {
          "base_uri": "https://localhost:8080/"
        },
        "id": "pbCVTO7BvqfE",
        "outputId": "93b5adb6-22ae-4e15-e7de-064aabe15d6a"
      },
      "execution_count": null,
      "outputs": [
        {
          "output_type": "stream",
          "name": "stdout",
          "text": [
            "Train shape: (60000, 784) (60000, 10)\n",
            "Test shape: (10000, 784) (10000, 10)\n"
          ]
        }
      ]
    },
    {
      "cell_type": "code",
      "source": [
        "from tensorflow.keras import models, layers\n",
        "\n",
        "model = models.Sequential([\n",
        "    layers.Input(shape=(784,)),               # 784 inputs\n",
        "    layers.Dense(128, activation='relu'),     # hidden layer\n",
        "    layers.Dense(10, activation='softmax')    # output layer (10 digits)\n",
        "])\n",
        "\n",
        "model.summary()\n"
      ],
      "metadata": {
        "colab": {
          "base_uri": "https://localhost:8080/",
          "height": 193
        },
        "id": "dFEHARvRv0l9",
        "outputId": "e5a674ee-e8ac-4397-9636-01421cd99016"
      },
      "execution_count": null,
      "outputs": [
        {
          "output_type": "display_data",
          "data": {
            "text/plain": [
              "\u001b[1mModel: \"sequential_3\"\u001b[0m\n"
            ],
            "text/html": [
              "<pre style=\"white-space:pre;overflow-x:auto;line-height:normal;font-family:Menlo,'DejaVu Sans Mono',consolas,'Courier New',monospace\"><span style=\"font-weight: bold\">Model: \"sequential_3\"</span>\n",
              "</pre>\n"
            ]
          },
          "metadata": {}
        },
        {
          "output_type": "display_data",
          "data": {
            "text/plain": [
              "┏━━━━━━━━━━━━━━━━━━━━━━━━━━━━━━━━━┳━━━━━━━━━━━━━━━━━━━━━━━━┳━━━━━━━━━━━━━━━┓\n",
              "┃\u001b[1m \u001b[0m\u001b[1mLayer (type)                   \u001b[0m\u001b[1m \u001b[0m┃\u001b[1m \u001b[0m\u001b[1mOutput Shape          \u001b[0m\u001b[1m \u001b[0m┃\u001b[1m \u001b[0m\u001b[1m      Param #\u001b[0m\u001b[1m \u001b[0m┃\n",
              "┡━━━━━━━━━━━━━━━━━━━━━━━━━━━━━━━━━╇━━━━━━━━━━━━━━━━━━━━━━━━╇━━━━━━━━━━━━━━━┩\n",
              "│ dense_10 (\u001b[38;5;33mDense\u001b[0m)                │ (\u001b[38;5;45mNone\u001b[0m, \u001b[38;5;34m128\u001b[0m)            │       \u001b[38;5;34m100,480\u001b[0m │\n",
              "├─────────────────────────────────┼────────────────────────┼───────────────┤\n",
              "│ dense_11 (\u001b[38;5;33mDense\u001b[0m)                │ (\u001b[38;5;45mNone\u001b[0m, \u001b[38;5;34m10\u001b[0m)             │         \u001b[38;5;34m1,290\u001b[0m │\n",
              "└─────────────────────────────────┴────────────────────────┴───────────────┘\n"
            ],
            "text/html": [
              "<pre style=\"white-space:pre;overflow-x:auto;line-height:normal;font-family:Menlo,'DejaVu Sans Mono',consolas,'Courier New',monospace\">┏━━━━━━━━━━━━━━━━━━━━━━━━━━━━━━━━━┳━━━━━━━━━━━━━━━━━━━━━━━━┳━━━━━━━━━━━━━━━┓\n",
              "┃<span style=\"font-weight: bold\"> Layer (type)                    </span>┃<span style=\"font-weight: bold\"> Output Shape           </span>┃<span style=\"font-weight: bold\">       Param # </span>┃\n",
              "┡━━━━━━━━━━━━━━━━━━━━━━━━━━━━━━━━━╇━━━━━━━━━━━━━━━━━━━━━━━━╇━━━━━━━━━━━━━━━┩\n",
              "│ dense_10 (<span style=\"color: #0087ff; text-decoration-color: #0087ff\">Dense</span>)                │ (<span style=\"color: #00d7ff; text-decoration-color: #00d7ff\">None</span>, <span style=\"color: #00af00; text-decoration-color: #00af00\">128</span>)            │       <span style=\"color: #00af00; text-decoration-color: #00af00\">100,480</span> │\n",
              "├─────────────────────────────────┼────────────────────────┼───────────────┤\n",
              "│ dense_11 (<span style=\"color: #0087ff; text-decoration-color: #0087ff\">Dense</span>)                │ (<span style=\"color: #00d7ff; text-decoration-color: #00d7ff\">None</span>, <span style=\"color: #00af00; text-decoration-color: #00af00\">10</span>)             │         <span style=\"color: #00af00; text-decoration-color: #00af00\">1,290</span> │\n",
              "└─────────────────────────────────┴────────────────────────┴───────────────┘\n",
              "</pre>\n"
            ]
          },
          "metadata": {}
        },
        {
          "output_type": "display_data",
          "data": {
            "text/plain": [
              "\u001b[1m Total params: \u001b[0m\u001b[38;5;34m101,770\u001b[0m (397.54 KB)\n"
            ],
            "text/html": [
              "<pre style=\"white-space:pre;overflow-x:auto;line-height:normal;font-family:Menlo,'DejaVu Sans Mono',consolas,'Courier New',monospace\"><span style=\"font-weight: bold\"> Total params: </span><span style=\"color: #00af00; text-decoration-color: #00af00\">101,770</span> (397.54 KB)\n",
              "</pre>\n"
            ]
          },
          "metadata": {}
        },
        {
          "output_type": "display_data",
          "data": {
            "text/plain": [
              "\u001b[1m Trainable params: \u001b[0m\u001b[38;5;34m101,770\u001b[0m (397.54 KB)\n"
            ],
            "text/html": [
              "<pre style=\"white-space:pre;overflow-x:auto;line-height:normal;font-family:Menlo,'DejaVu Sans Mono',consolas,'Courier New',monospace\"><span style=\"font-weight: bold\"> Trainable params: </span><span style=\"color: #00af00; text-decoration-color: #00af00\">101,770</span> (397.54 KB)\n",
              "</pre>\n"
            ]
          },
          "metadata": {}
        },
        {
          "output_type": "display_data",
          "data": {
            "text/plain": [
              "\u001b[1m Non-trainable params: \u001b[0m\u001b[38;5;34m0\u001b[0m (0.00 B)\n"
            ],
            "text/html": [
              "<pre style=\"white-space:pre;overflow-x:auto;line-height:normal;font-family:Menlo,'DejaVu Sans Mono',consolas,'Courier New',monospace\"><span style=\"font-weight: bold\"> Non-trainable params: </span><span style=\"color: #00af00; text-decoration-color: #00af00\">0</span> (0.00 B)\n",
              "</pre>\n"
            ]
          },
          "metadata": {}
        }
      ]
    },
    {
      "cell_type": "code",
      "source": [
        "model.compile(optimizer=\"adam\",\n",
        "              loss=\"categorical_crossentropy\",\n",
        "              metrics=[\"accuracy\"])\n"
      ],
      "metadata": {
        "id": "IGXbJdvpv3Ne"
      },
      "execution_count": null,
      "outputs": []
    },
    {
      "cell_type": "code",
      "source": [
        "history = model.fit(x_train_flat, y_train_cat,\n",
        "                    epochs=10,\n",
        "                    batch_size=128,\n",
        "                    validation_split=0.1,\n",
        "                    verbose=2)\n"
      ],
      "metadata": {
        "colab": {
          "base_uri": "https://localhost:8080/"
        },
        "id": "I8q0mVV7v5Sn",
        "outputId": "114b04ca-92a3-4151-bef1-f79f904ffbd6"
      },
      "execution_count": null,
      "outputs": [
        {
          "output_type": "stream",
          "name": "stdout",
          "text": [
            "Epoch 1/10\n",
            "422/422 - 9s - 20ms/step - accuracy: 0.8966 - loss: 0.3789 - val_accuracy: 0.9563 - val_loss: 0.1691\n",
            "Epoch 2/10\n",
            "422/422 - 2s - 4ms/step - accuracy: 0.9496 - loss: 0.1788 - val_accuracy: 0.9635 - val_loss: 0.1285\n",
            "Epoch 3/10\n",
            "422/422 - 2s - 4ms/step - accuracy: 0.9630 - loss: 0.1309 - val_accuracy: 0.9682 - val_loss: 0.1094\n",
            "Epoch 4/10\n",
            "422/422 - 1s - 3ms/step - accuracy: 0.9714 - loss: 0.1016 - val_accuracy: 0.9698 - val_loss: 0.0993\n",
            "Epoch 5/10\n",
            "422/422 - 1s - 3ms/step - accuracy: 0.9772 - loss: 0.0815 - val_accuracy: 0.9712 - val_loss: 0.0938\n",
            "Epoch 6/10\n",
            "422/422 - 1s - 3ms/step - accuracy: 0.9818 - loss: 0.0668 - val_accuracy: 0.9730 - val_loss: 0.0896\n",
            "Epoch 7/10\n",
            "422/422 - 1s - 3ms/step - accuracy: 0.9853 - loss: 0.0556 - val_accuracy: 0.9733 - val_loss: 0.0867\n",
            "Epoch 8/10\n",
            "422/422 - 1s - 3ms/step - accuracy: 0.9875 - loss: 0.0465 - val_accuracy: 0.9738 - val_loss: 0.0850\n",
            "Epoch 9/10\n",
            "422/422 - 1s - 3ms/step - accuracy: 0.9901 - loss: 0.0392 - val_accuracy: 0.9737 - val_loss: 0.0843\n",
            "Epoch 10/10\n",
            "422/422 - 2s - 4ms/step - accuracy: 0.9919 - loss: 0.0330 - val_accuracy: 0.9745 - val_loss: 0.0837\n"
          ]
        }
      ]
    },
    {
      "cell_type": "code",
      "source": [
        "test_loss, test_acc = model.evaluate(x_test_flat, y_test_cat, verbose=2)\n",
        "print(f\"Test Accuracy: {test_acc:.4f}\")\n"
      ],
      "metadata": {
        "colab": {
          "base_uri": "https://localhost:8080/"
        },
        "id": "PPnxXviEv7UV",
        "outputId": "a9369b6f-06f7-425e-fbbe-6c86d3dc55c8"
      },
      "execution_count": null,
      "outputs": [
        {
          "output_type": "stream",
          "name": "stdout",
          "text": [
            "313/313 - 2s - 6ms/step - accuracy: 0.9756 - loss: 0.0844\n",
            "Test Accuracy: 0.9756\n"
          ]
        }
      ]
    },
    {
      "cell_type": "code",
      "source": [
        "import matplotlib.pyplot as plt\n",
        "\n",
        "plt.plot(history.history['accuracy'], label='train acc')\n",
        "plt.plot(history.history['val_accuracy'], label='val acc')\n",
        "plt.xlabel('Epochs'); plt.ylabel('Accuracy')\n",
        "plt.legend(); plt.show()\n"
      ],
      "metadata": {
        "colab": {
          "base_uri": "https://localhost:8080/",
          "height": 449
        },
        "id": "1kYWddX6wHTq",
        "outputId": "c52f8591-46ac-4e81-8d1b-88f605e63c60"
      },
      "execution_count": null,
      "outputs": [
        {
          "output_type": "display_data",
          "data": {
            "text/plain": [
              "<Figure size 640x480 with 1 Axes>"
            ],
            "image/png": "[encoded data removed]"
          },
          "metadata": {}
        }
      ]
    },
    {
      "cell_type": "code",
      "source": [],
      "metadata": {
        "id": "ueNLT4iywKNN"
      },
      "execution_count": null,
      "outputs": []
    }
  ]
}